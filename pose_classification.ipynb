{
  "cells": [
    {
      "cell_type": "markdown",
      "metadata": {
        "id": "L30JbHSkiVZx"
      },
      "source": [
        "##### Copyright 2021 The TensorFlow Authors."
      ]
    },
    {
      "cell_type": "code",
      "execution_count": null,
      "metadata": {
        "cellView": "form",
        "id": "ZtimvKLdili0"
      },
      "outputs": [],
      "source": [
        "#@title Licensed under the Apache License, Version 2.0 (the \"License\");\n",
        "# you may not use this file except in compliance with the License.\n",
        "# You may obtain a copy of the License at\n",
        "#\n",
        "# https://www.apache.org/licenses/LICENSE-2.0\n",
        "#\n",
        "# Unless required by applicable law or agreed to in writing, software\n",
        "# distributed under the License is distributed on an \"AS IS\" BASIS,\n",
        "# WITHOUT WARRANTIES OR CONDITIONS OF ANY KIND, either express or implied.\n",
        "# See the License for the specific language governing permissions and\n",
        "# limitations under the License."
      ]
    },
    {
      "cell_type": "markdown",
      "metadata": {
        "id": "QXdiroR-Ue-Z"
      },
      "source": [
        "# Human Pose Classification with MoveNet and TensorFlow Lite\n",
        "\n",
        "This notebook teaches you how to train a pose classification model using MoveNet and TensorFlow Lite. The result is a new TensorFlow Lite model that accepts the output from the MoveNet model as its input, and outputs a pose classification, such as the name of a yoga pose.\n",
        "\n",
        "The procedure in this notebook consists of 3 parts:\n",
        "* Part 1: Preprocess the pose classification training data into a CSV file that specifies the landmarks (body keypoints) detected by the MoveNet model, along with the ground truth pose labels.\n",
        "* Part 2: Build and train a pose classification model that takes the landmark coordinates from the CSV file as input, and outputs the predicted labels.\n",
        "* Part 3: Convert the pose classification model to TFLite.\n",
        "\n",
        "By default, this notebook uses an image dataset with labeled yoga poses, but we've also included a section in Part 1 where you can upload your own image dataset of poses.\n",
        "\n",
        "<table class=\"tfo-notebook-buttons\" align=\"left\">\n",
        "  <td>\n",
        "    <a target=\"_blank\" href=\"https://www.tensorflow.org/lite/tutorials/pose_classification\"><img src=\"https://www.tensorflow.org/images/tf_logo_32px.png\" />View on TensorFlow.org</a>\n",
        "  </td>\n",
        "  <td>\n",
        "    <a target=\"_blank\" href=\"https://colab.research.google.com/github/tensorflow/tensorflow/blob/master/tensorflow/lite/g3doc/tutorials/pose_classification.ipynb\"><img src=\"https://www.tensorflow.org/images/colab_logo_32px.png\" />Run in Google Colab</a>\n",
        "  </td>\n",
        "  <td>\n",
        "    <a target=\"_blank\" href=\"https://github.com/tensorflow/tensorflow/blob/master/tensorflow/lite/g3doc/tutorials/pose_classification.ipynb\"><img src=\"https://www.tensorflow.org/images/GitHub-Mark-32px.png\" />View source on GitHub</a>\n",
        "  </td>\n",
        "  <td>\n",
        "    <a href=\"https://storage.googleapis.com/tensorflow_docs/tensorflow/tensorflow/lite/g3doc/tutorials/pose_classification.ipynb\"><img src=\"https://www.tensorflow.org/images/download_logo_32px.png\" />Download notebook</a>\n",
        "  </td>\n",
        "  <td>\n",
        "    <a href=\"https://tfhub.dev/s?q=movenet\"><img src=\"https://www.tensorflow.org/images/hub_logo_32px.png\" />See TF Hub model</a>\n",
        "  </td>\n",
        "</table>"
      ]
    },
    {
      "cell_type": "markdown",
      "metadata": {
        "id": "IfQ3xP6-EY5r"
      },
      "source": [
        "## Preparation"
      ]
    },
    {
      "cell_type": "markdown",
      "metadata": {
        "id": "Jpy4A1Vpi9jH"
      },
      "source": [
        "In this section, you'll import the necessary libraries and define several functions to preprocess the training images into a CSV file that contains the landmark coordinates and ground truth labels.\n",
        "\n",
        "Nothing observable happens here, but you can expand the hidden code cells to see the implementation for some of the functions we'll be calling later on.\n",
        "\n",
        "**If you only want to create the CSV file without knowing all the details, just run this section and proceed to Part 1.**"
      ]
    },
    {
      "cell_type": "code",
      "execution_count": 1,
      "metadata": {
        "id": "PWlbrkMCx-W-"
      },
      "outputs": [
        {
          "name": "stderr",
          "output_type": "stream",
          "text": [
            "\n",
            "[notice] A new release of pip is available: 23.2.1 -> 23.3.1\n",
            "[notice] To update, run: python.exe -m pip install --upgrade pip\n"
          ]
        }
      ],
      "source": [
        "!pip install -q opencv-python"
      ]
    },
    {
      "cell_type": "code",
      "execution_count": 2,
      "metadata": {
        "id": "KTkttSWnUi1Q"
      },
      "outputs": [],
      "source": [
        "import csv\n",
        "import cv2\n",
        "import itertools\n",
        "import numpy as np\n",
        "import pandas as pd\n",
        "import os\n",
        "import sys\n",
        "import tempfile\n",
        "import tqdm\n",
        "\n",
        "from matplotlib import pyplot as plt\n",
        "from matplotlib.collections import LineCollection\n",
        "\n",
        "import tensorflow as tf\n",
        "import tensorflow_hub as hub\n",
        "from tensorflow import keras\n",
        "\n",
        "from sklearn.model_selection import train_test_split\n",
        "from sklearn.metrics import accuracy_score, classification_report, confusion_matrix"
      ]
    },
    {
      "cell_type": "markdown",
      "metadata": {
        "id": "KwRwEssyTciI"
      },
      "source": [
        "### Code to run pose estimation using MoveNet"
      ]
    },
    {
      "cell_type": "code",
      "execution_count": 3,
      "metadata": {
        "cellView": "form",
        "id": "48kW1c2F5l1R"
      },
      "outputs": [],
      "source": [
        "#@title Functions to run pose estimation with MoveNet\n",
        "\n",
        "#@markdown You'll download the MoveNet Thunder model from [TensorFlow Hub](https://www.google.com/url?sa=D&q=https%3A%2F%2Ftfhub.dev%2Fs%3Fq%3Dmovenet), and reuse some inference and visualization logic from the [MoveNet Raspberry Pi (Python)](https://github.com/tensorflow/examples/tree/master/lite/examples/pose_estimation/raspberry_pi) sample app to detect landmarks (ear, nose, wrist etc.) from the input images.\n",
        "\n",
        "#@markdown *Note: You should use the most accurate pose estimation model (i.e. MoveNet Thunder) to detect the keypoints and use them to train the pose classification model to achieve the best accuracy. When running inference, you can use a pose estimation model of your choice (e.g. either MoveNet Lightning or Thunder).*\n",
        "\n",
        "# Download model from TF Hub and check out inference code from GitHub\n",
        "#!wget -q -O movenet_thunder.tflite https://tfhub.dev/google/lite-model/movenet/singlepose/thunder/tflite/float16/4?lite-format=tflite\n",
        "#!git clone https://github.com/tensorflow/examples.git\n",
        "#pose_sample_rpi_path = os.path.join(os.getcwd(), 'examples/lite/examples/pose_estimation/raspberry_pi')\n",
        "#sys.path.append(pose_sample_rpi_path)\n",
        "\n",
        "# Load MoveNet Thunder model\n",
        "import utils\n",
        "from data import BodyPart\n",
        "from ml import Movenet\n",
        "movenet = Movenet('movenet_thunder')\n",
        "\n",
        "# Define function to run pose estimation using MoveNet Thunder.\n",
        "# You'll apply MoveNet's cropping algorithm and run inference multiple times on\n",
        "# the input image to improve pose estimation accuracy.\n",
        "def detect(input_tensor, inference_count=3):\n",
        "  \"\"\"Runs detection on an input image.\n",
        " \n",
        "  Args:\n",
        "    input_tensor: A [height, width, 3] Tensor of type tf.float32.\n",
        "      Note that height and width can be anything since the image will be\n",
        "      immediately resized according to the needs of the model within this\n",
        "      function.\n",
        "    inference_count: Number of times the model should run repeatly on the\n",
        "      same input image to improve detection accuracy.\n",
        " \n",
        "  Returns:\n",
        "    A Person entity detected by the MoveNet.SinglePose.\n",
        "  \"\"\"\n",
        "  image_height, image_width, channel = input_tensor.shape\n",
        " \n",
        "  # Detect pose using the full input image\n",
        "  movenet.detect(input_tensor.numpy(), reset_crop_region=True)\n",
        " \n",
        "  # Repeatedly using previous detection result to identify the region of\n",
        "  # interest and only croping that region to improve detection accuracy\n",
        "  for _ in range(inference_count - 1):\n",
        "    person = movenet.detect(input_tensor.numpy(), \n",
        "                            reset_crop_region=False)\n",
        "\n",
        "  return person"
      ]
    },
    {
      "cell_type": "code",
      "execution_count": 4,
      "metadata": {
        "cellView": "form",
        "id": "fKo0NzwQJ5Rm"
      },
      "outputs": [],
      "source": [
        "#@title Functions to visualize the pose estimation results.\n",
        "\n",
        "def draw_prediction_on_image(\n",
        "    image, person, crop_region=None, close_figure=True,\n",
        "    keep_input_size=False):\n",
        "  \"\"\"Draws the keypoint predictions on image.\n",
        " \n",
        "  Args:\n",
        "    image: An numpy array with shape [height, width, channel] representing the\n",
        "      pixel values of the input image.\n",
        "    person: A person entity returned from the MoveNet.SinglePose model.\n",
        "    close_figure: Whether to close the plt figure after the function returns.\n",
        "    keep_input_size: Whether to keep the size of the input image.\n",
        " \n",
        "  Returns:\n",
        "    An numpy array with shape [out_height, out_width, channel] representing the\n",
        "    image overlaid with keypoint predictions.\n",
        "  \"\"\"\n",
        "  # Draw the detection result on top of the image.\n",
        "  image_np = utils.visualize(image, [person])\n",
        "  \n",
        "  # Plot the image with detection results.\n",
        "  height, width, channel = image.shape\n",
        "  aspect_ratio = float(width) / height\n",
        "  fig, ax = plt.subplots(figsize=(12 * aspect_ratio, 12))\n",
        "  im = ax.imshow(image_np)\n",
        " \n",
        "  if close_figure:\n",
        "    plt.close(fig)\n",
        " \n",
        "  if not keep_input_size:\n",
        "    image_np = utils.keep_aspect_ratio_resizer(image_np, (512, 512))\n",
        "\n",
        "  return image_np"
      ]
    },
    {
      "cell_type": "code",
      "execution_count": 5,
      "metadata": {
        "cellView": "form",
        "id": "QUkOW_26S6K-"
      },
      "outputs": [],
      "source": [
        "#@title Code to load the images, detect pose landmarks and save them into a CSV file\n",
        "\n",
        "class MoveNetPreprocessor(object):\n",
        "  \"\"\"Helper class to preprocess pose sample images for classification.\"\"\"\n",
        " \n",
        "  def __init__(self,\n",
        "               images_in_folder,\n",
        "               images_out_folder,\n",
        "               csvs_out_path):\n",
        "    \"\"\"Creates a preprocessor to detection pose from images and save as CSV.\n",
        "\n",
        "    Args:\n",
        "      images_in_folder: Path to the folder with the input images. It should\n",
        "        follow this structure:\n",
        "        yoga_poses\n",
        "        |__ downdog\n",
        "            |______ 00000128.jpg\n",
        "            |______ 00000181.bmp\n",
        "            |______ ...\n",
        "        |__ goddess\n",
        "            |______ 00000243.jpg\n",
        "            |______ 00000306.jpg\n",
        "            |______ ...\n",
        "        ...\n",
        "      images_out_folder: Path to write the images overlay with detected\n",
        "        landmarks. These images are useful when you need to debug accuracy\n",
        "        issues.\n",
        "      csvs_out_path: Path to write the CSV containing the detected landmark\n",
        "        coordinates and label of each image that can be used to train a pose\n",
        "        classification model.\n",
        "    \"\"\"\n",
        "    self._images_in_folder = images_in_folder\n",
        "    self._images_out_folder = images_out_folder\n",
        "    self._csvs_out_path = csvs_out_path\n",
        "    self._messages = []\n",
        "\n",
        "    # Create a temp dir to store the pose CSVs per class\n",
        "    self._csvs_out_folder_per_class = tempfile.mkdtemp()\n",
        " \n",
        "    # Get list of pose classes and print image statistics\n",
        "    self._pose_class_names = sorted(\n",
        "        [n for n in os.listdir(self._images_in_folder) if not n.startswith('.')]\n",
        "        )\n",
        "    \n",
        "  def process(self, per_pose_class_limit=None, detection_threshold=0.1):\n",
        "    \"\"\"Preprocesses images in the given folder.\n",
        "    Args:\n",
        "      per_pose_class_limit: Number of images to load. As preprocessing usually\n",
        "        takes time, this parameter can be specified to make the reduce of the\n",
        "        dataset for testing.\n",
        "      detection_threshold: Only keep images with all landmark confidence score\n",
        "        above this threshold.\n",
        "    \"\"\"\n",
        "    # Loop through the classes and preprocess its images\n",
        "    for pose_class_name in self._pose_class_names:\n",
        "      print('Preprocessing', pose_class_name, file=sys.stderr)\n",
        "\n",
        "      # Paths for the pose class.\n",
        "      images_in_folder = os.path.join(self._images_in_folder, pose_class_name)\n",
        "      images_out_folder = os.path.join(self._images_out_folder, pose_class_name)\n",
        "      csv_out_path = os.path.join(self._csvs_out_folder_per_class,\n",
        "                                  pose_class_name + '.csv')\n",
        "      if not os.path.exists(images_out_folder):\n",
        "        os.makedirs(images_out_folder)\n",
        " \n",
        "      # Detect landmarks in each image and write it to a CSV file\n",
        "      with open(csv_out_path, 'w') as csv_out_file:\n",
        "        csv_out_writer = csv.writer(csv_out_file, \n",
        "                                    delimiter=',', \n",
        "                                    quoting=csv.QUOTE_MINIMAL)\n",
        "        # Get list of images\n",
        "        image_names = sorted(\n",
        "            [n for n in os.listdir(images_in_folder) if not n.startswith('.')])\n",
        "        if per_pose_class_limit is not None:\n",
        "          image_names = image_names[:per_pose_class_limit]\n",
        "\n",
        "        valid_image_count = 0\n",
        " \n",
        "        # Detect pose landmarks from each image\n",
        "        for image_name in tqdm.tqdm(image_names):\n",
        "          image_path = os.path.join(images_in_folder, image_name)\n",
        "\n",
        "          try:\n",
        "            image = tf.io.read_file(image_path)\n",
        "            image = tf.io.decode_jpeg(image)\n",
        "          except:\n",
        "            self._messages.append('Skipped ' + image_path + '. Invalid image.')\n",
        "            continue\n",
        "          else:\n",
        "            image = tf.io.read_file(image_path)\n",
        "            image = tf.io.decode_jpeg(image)\n",
        "            image_height, image_width, channel = image.shape\n",
        "          \n",
        "          # Skip images that isn't RGB because Movenet requires RGB images\n",
        "          if channel != 3:\n",
        "            self._messages.append('Skipped ' + image_path +\n",
        "                                  '. Image isn\\'t in RGB format.')\n",
        "            continue\n",
        "          person = detect(image)\n",
        "          \n",
        "          # Save landmarks if all landmarks were detected\n",
        "          min_landmark_score = min(\n",
        "              [keypoint.score for keypoint in person.keypoints])\n",
        "          should_keep_image = min_landmark_score >= detection_threshold\n",
        "          if not should_keep_image:\n",
        "            self._messages.append('Skipped ' + image_path +\n",
        "                                  '. No pose was confidentlly detected.')\n",
        "            continue\n",
        "\n",
        "          valid_image_count += 1\n",
        "\n",
        "          # Draw the prediction result on top of the image for debugging later\n",
        "          #output_overlay = draw_prediction_on_image(\n",
        "          #    image.numpy().astype(np.uint8), person, \n",
        "          #    close_figure=True, keep_input_size=True)\n",
        "        \n",
        "          # Write detection result into an image file\n",
        "          #output_frame = cv2.cvtColor(output_overlay, cv2.COLOR_RGB2BGR)\n",
        "          #cv2.imwrite(os.path.join(images_out_folder, image_name), output_frame)\n",
        "        \n",
        "          # Get landmarks and scale it to the same size as the input image\n",
        "          pose_landmarks = np.array(\n",
        "              [[keypoint.coordinate.x, keypoint.coordinate.y, keypoint.score]\n",
        "                for keypoint in person.keypoints],\n",
        "              dtype=np.float32)\n",
        "\n",
        "          # Write the landmark coordinates to its per-class CSV file\n",
        "          coordinates = pose_landmarks.flatten().astype(str).tolist()\n",
        "          csv_out_writer.writerow([image_name] + coordinates)\n",
        "\n",
        "        if not valid_image_count:\n",
        "          raise RuntimeError(\n",
        "              'No valid images found for the \"{}\" class.'\n",
        "              .format(pose_class_name))\n",
        "      \n",
        "    # Print the error message collected during preprocessing.\n",
        "    print('\\n'.join(self._messages))\n",
        "\n",
        "    # Combine all per-class CSVs into a single output file\n",
        "    all_landmarks_df = self._all_landmarks_as_dataframe()\n",
        "    all_landmarks_df.to_csv(self._csvs_out_path, index=False)\n",
        "\n",
        "  def class_names(self):\n",
        "    \"\"\"List of classes found in the training dataset.\"\"\"\n",
        "    return self._pose_class_names\n",
        "  \n",
        "  def _all_landmarks_as_dataframe(self):\n",
        "    \"\"\"Merge all per-class CSVs into a single dataframe.\"\"\"\n",
        "    total_df = None\n",
        "    for class_index, class_name in enumerate(self._pose_class_names):\n",
        "      csv_out_path = os.path.join(self._csvs_out_folder_per_class,\n",
        "                                  class_name + '.csv')\n",
        "      per_class_df = pd.read_csv(csv_out_path, header=None)\n",
        "      \n",
        "      # Add the labels\n",
        "      per_class_df['class_no'] = [class_index]*len(per_class_df)\n",
        "      per_class_df['class_name'] = [class_name]*len(per_class_df)\n",
        "\n",
        "      # Append the folder name to the filename column (first column)\n",
        "      per_class_df[per_class_df.columns[0]] = (os.path.join(class_name, '') \n",
        "        + per_class_df[per_class_df.columns[0]].astype(str))\n",
        "\n",
        "      if total_df is None:\n",
        "        # For the first class, assign its data to the total dataframe\n",
        "        total_df = per_class_df\n",
        "      else:\n",
        "        # Concatenate each class's data into the total dataframe\n",
        "        total_df = pd.concat([total_df, per_class_df], axis=0)\n",
        " \n",
        "    list_name = [[bodypart.name + '_x', bodypart.name + '_y', \n",
        "                  bodypart.name + '_score'] for bodypart in BodyPart] \n",
        "    header_name = []\n",
        "    for columns_name in list_name:\n",
        "      header_name += columns_name\n",
        "    header_name = ['file_name'] + header_name\n",
        "    header_map = {total_df.columns[i]: header_name[i] \n",
        "                  for i in range(len(header_name))}\n",
        " \n",
        "    total_df.rename(header_map, axis=1, inplace=True)\n",
        "\n",
        "    return total_df"
      ]
    },
    {
      "cell_type": "code",
      "execution_count": 6,
      "metadata": {
        "cellView": "form",
        "id": "LB3QIVrdU108"
      },
      "outputs": [
        {
          "name": "stderr",
          "output_type": "stream",
          "text": [
            "'wget' is not recognized as an internal or external command,\n",
            "operable program or batch file.\n"
          ]
        },
        {
          "ename": "NotFoundError",
          "evalue": "{{function_node __wrapped__ReadFile_device_/job:localhost/replica:0/task:0/device:CPU:0}} NewRandomAccessFile failed to Create/Open: /tmp/image.jpeg : The system cannot find the path specified.\r\n; No such process [Op:ReadFile]",
          "output_type": "error",
          "traceback": [
            "\u001b[1;31m---------------------------------------------------------------------------\u001b[0m",
            "\u001b[1;31mNotFoundError\u001b[0m                             Traceback (most recent call last)",
            "\u001b[1;32md:\\Trigger-detection-skeletal\\pose_classification.ipynb Cell 12\u001b[0m line \u001b[0;36m1\n\u001b[0;32m      <a href='vscode-notebook-cell:/d%3A/Trigger-detection-skeletal/pose_classification.ipynb#X14sZmlsZQ%3D%3D?line=7'>8</a>\u001b[0m get_ipython()\u001b[39m.\u001b[39msystem(\u001b[39m'\u001b[39m\u001b[39mwget -O /tmp/image.jpeg \u001b[39m\u001b[39m{test_image_url}\u001b[39;00m\u001b[39m'\u001b[39m)\n\u001b[0;32m     <a href='vscode-notebook-cell:/d%3A/Trigger-detection-skeletal/pose_classification.ipynb#X14sZmlsZQ%3D%3D?line=9'>10</a>\u001b[0m \u001b[39mif\u001b[39;00m \u001b[39mlen\u001b[39m(test_image_url):\n\u001b[1;32m---> <a href='vscode-notebook-cell:/d%3A/Trigger-detection-skeletal/pose_classification.ipynb#X14sZmlsZQ%3D%3D?line=10'>11</a>\u001b[0m   image \u001b[39m=\u001b[39m tf\u001b[39m.\u001b[39;49mio\u001b[39m.\u001b[39;49mread_file(\u001b[39m'\u001b[39;49m\u001b[39m/tmp/image.jpeg\u001b[39;49m\u001b[39m'\u001b[39;49m)\n\u001b[0;32m     <a href='vscode-notebook-cell:/d%3A/Trigger-detection-skeletal/pose_classification.ipynb#X14sZmlsZQ%3D%3D?line=11'>12</a>\u001b[0m   image \u001b[39m=\u001b[39m tf\u001b[39m.\u001b[39mio\u001b[39m.\u001b[39mdecode_jpeg(image)\n\u001b[0;32m     <a href='vscode-notebook-cell:/d%3A/Trigger-detection-skeletal/pose_classification.ipynb#X14sZmlsZQ%3D%3D?line=12'>13</a>\u001b[0m   person \u001b[39m=\u001b[39m detect(image)\n",
            "File \u001b[1;32mc:\\Users\\mhasaan\\AppData\\Local\\miniconda3\\Lib\\site-packages\\tensorflow\\python\\ops\\io_ops.py:133\u001b[0m, in \u001b[0;36mread_file\u001b[1;34m(filename, name)\u001b[0m\n\u001b[0;32m     96\u001b[0m \u001b[39m@tf_export\u001b[39m(\u001b[39m\"\u001b[39m\u001b[39mio.read_file\u001b[39m\u001b[39m\"\u001b[39m, v1\u001b[39m=\u001b[39m[\u001b[39m\"\u001b[39m\u001b[39mio.read_file\u001b[39m\u001b[39m\"\u001b[39m, \u001b[39m\"\u001b[39m\u001b[39mread_file\u001b[39m\u001b[39m\"\u001b[39m])\n\u001b[0;32m     97\u001b[0m \u001b[39mdef\u001b[39;00m \u001b[39mread_file\u001b[39m(filename, name\u001b[39m=\u001b[39m\u001b[39mNone\u001b[39;00m):\n\u001b[0;32m     98\u001b[0m \u001b[39m  \u001b[39m\u001b[39m\"\"\"Reads the contents of file.\u001b[39;00m\n\u001b[0;32m     99\u001b[0m \n\u001b[0;32m    100\u001b[0m \u001b[39m  This operation returns a tensor with the entire contents of the input\u001b[39;00m\n\u001b[1;32m   (...)\u001b[0m\n\u001b[0;32m    131\u001b[0m \u001b[39m    A tensor of dtype \"string\", with the file contents.\u001b[39;00m\n\u001b[0;32m    132\u001b[0m \u001b[39m  \"\"\"\u001b[39;00m\n\u001b[1;32m--> 133\u001b[0m   \u001b[39mreturn\u001b[39;00m gen_io_ops\u001b[39m.\u001b[39;49mread_file(filename, name)\n",
            "File \u001b[1;32mc:\\Users\\mhasaan\\AppData\\Local\\miniconda3\\Lib\\site-packages\\tensorflow\\python\\ops\\gen_io_ops.py:611\u001b[0m, in \u001b[0;36mread_file\u001b[1;34m(filename, name)\u001b[0m\n\u001b[0;32m    609\u001b[0m   \u001b[39mpass\u001b[39;00m\n\u001b[0;32m    610\u001b[0m \u001b[39mtry\u001b[39;00m:\n\u001b[1;32m--> 611\u001b[0m   \u001b[39mreturn\u001b[39;00m read_file_eager_fallback(\n\u001b[0;32m    612\u001b[0m       filename, name\u001b[39m=\u001b[39;49mname, ctx\u001b[39m=\u001b[39;49m_ctx)\n\u001b[0;32m    613\u001b[0m \u001b[39mexcept\u001b[39;00m _core\u001b[39m.\u001b[39m_SymbolicException:\n\u001b[0;32m    614\u001b[0m   \u001b[39mpass\u001b[39;00m  \u001b[39m# Add nodes to the TensorFlow graph.\u001b[39;00m\n",
            "File \u001b[1;32mc:\\Users\\mhasaan\\AppData\\Local\\miniconda3\\Lib\\site-packages\\tensorflow\\python\\ops\\gen_io_ops.py:634\u001b[0m, in \u001b[0;36mread_file_eager_fallback\u001b[1;34m(filename, name, ctx)\u001b[0m\n\u001b[0;32m    632\u001b[0m _inputs_flat \u001b[39m=\u001b[39m [filename]\n\u001b[0;32m    633\u001b[0m _attrs \u001b[39m=\u001b[39m \u001b[39mNone\u001b[39;00m\n\u001b[1;32m--> 634\u001b[0m _result \u001b[39m=\u001b[39m _execute\u001b[39m.\u001b[39;49mexecute(\u001b[39mb\u001b[39;49m\u001b[39m\"\u001b[39;49m\u001b[39mReadFile\u001b[39;49m\u001b[39m\"\u001b[39;49m, \u001b[39m1\u001b[39;49m, inputs\u001b[39m=\u001b[39;49m_inputs_flat,\n\u001b[0;32m    635\u001b[0m                            attrs\u001b[39m=\u001b[39;49m_attrs, ctx\u001b[39m=\u001b[39;49mctx, name\u001b[39m=\u001b[39;49mname)\n\u001b[0;32m    636\u001b[0m \u001b[39mif\u001b[39;00m _execute\u001b[39m.\u001b[39mmust_record_gradient():\n\u001b[0;32m    637\u001b[0m   _execute\u001b[39m.\u001b[39mrecord_gradient(\n\u001b[0;32m    638\u001b[0m       \u001b[39m\"\u001b[39m\u001b[39mReadFile\u001b[39m\u001b[39m\"\u001b[39m, _inputs_flat, _attrs, _result)\n",
            "File \u001b[1;32mc:\\Users\\mhasaan\\AppData\\Local\\miniconda3\\Lib\\site-packages\\tensorflow\\python\\eager\\execute.py:53\u001b[0m, in \u001b[0;36mquick_execute\u001b[1;34m(op_name, num_outputs, inputs, attrs, ctx, name)\u001b[0m\n\u001b[0;32m     51\u001b[0m \u001b[39mtry\u001b[39;00m:\n\u001b[0;32m     52\u001b[0m   ctx\u001b[39m.\u001b[39mensure_initialized()\n\u001b[1;32m---> 53\u001b[0m   tensors \u001b[39m=\u001b[39m pywrap_tfe\u001b[39m.\u001b[39;49mTFE_Py_Execute(ctx\u001b[39m.\u001b[39;49m_handle, device_name, op_name,\n\u001b[0;32m     54\u001b[0m                                       inputs, attrs, num_outputs)\n\u001b[0;32m     55\u001b[0m \u001b[39mexcept\u001b[39;00m core\u001b[39m.\u001b[39m_NotOkStatusException \u001b[39mas\u001b[39;00m e:\n\u001b[0;32m     56\u001b[0m   \u001b[39mif\u001b[39;00m name \u001b[39mis\u001b[39;00m \u001b[39mnot\u001b[39;00m \u001b[39mNone\u001b[39;00m:\n",
            "\u001b[1;31mNotFoundError\u001b[0m: {{function_node __wrapped__ReadFile_device_/job:localhost/replica:0/task:0/device:CPU:0}} NewRandomAccessFile failed to Create/Open: /tmp/image.jpeg : The system cannot find the path specified.\r\n; No such process [Op:ReadFile]"
          ]
        }
      ],
      "source": [
        "#@title (Optional) Code snippet to try out the Movenet pose estimation logic\n",
        "\n",
        "#@markdown You can download an image from the internet, run the pose estimation logic on it and plot the detected landmarks on top of the input image. \n",
        "\n",
        "#@markdown *Note: This code snippet is also useful for debugging when you encounter an image with bad pose classification accuracy. You can run pose estimation on the image and see if the detected landmarks look correct or not before investigating the pose classification logic.*\n",
        "\n",
        "test_image_url = \"https://cdn.pixabay.com/photo/2017/03/03/17/30/yoga-2114512_960_720.jpg\" #@param {type:\"string\"}\n",
        "!wget -O /tmp/image.jpeg {test_image_url}\n",
        "\n",
        "if len(test_image_url):\n",
        "  image = tf.io.read_file('/tmp/image.jpeg')\n",
        "  image = tf.io.decode_jpeg(image)\n",
        "  person = detect(image)\n",
        "  _ = draw_prediction_on_image(image.numpy(), person, crop_region=None, \n",
        "                               close_figure=False, keep_input_size=True)"
      ]
    },
    {
      "cell_type": "markdown",
      "metadata": {
        "id": "L24GWhgo4WAl"
      },
      "source": [
        "## Part 1: Preprocess the input images\n",
        "\n",
        "Because the input for our pose classifier is the *output* landmarks from the MoveNet model, we need to generate our training dataset by running labeled images through MoveNet and then capturing all the landmark data and ground truth labels into a CSV file.\n",
        "\n",
        "The dataset we've provided for this tutorial is a CG-generated yoga pose dataset. It contains images of multiple CG-generated models doing 5 different yoga poses. The directory is already split into a `train` dataset and a `test` dataset.\n",
        "\n",
        "So in this section, we'll download the yoga dataset and run it through MoveNet so we can capture all the landmarks into a CSV file... **However, it takes about 15 minutes to feed our yoga dataset to MoveNet and generate this CSV file**. So as an alternative, you can download a pre-existing CSV file for the yoga dataset by setting `is_skip_step_1` parameter below to **True**. That way, you'll skip this step and instead download the same CSV file that will be created in this preprocessing step.\n",
        "\n",
        "On the other hand, if you want to train the pose classifier with your own image dataset, you need to upload your images and run this preprocessing step (leave `is_skip_step_1` **False**)—follow the instructions below to upload your own pose dataset."
      ]
    },
    {
      "cell_type": "code",
      "execution_count": 7,
      "metadata": {
        "cellView": "form",
        "id": "Kw6jwOFD40Fr"
      },
      "outputs": [],
      "source": [
        "is_skip_step_1 = False #@param [\"False\", \"True\"] {type:\"raw\"}"
      ]
    },
    {
      "cell_type": "markdown",
      "metadata": {
        "id": "TJXSR2CQhm-z"
      },
      "source": [
        "### (Optional) Upload your own pose dataset"
      ]
    },
    {
      "cell_type": "code",
      "execution_count": 8,
      "metadata": {
        "cellView": "form",
        "id": "iEnjgeKeS_VP"
      },
      "outputs": [],
      "source": [
        "use_custom_dataset = True #@param [\"False\", \"True\"] {type:\"raw\"}\n",
        "\n",
        "dataset_is_split = False #@param [\"False\", \"True\"] {type:\"raw\"}"
      ]
    },
    {
      "cell_type": "markdown",
      "metadata": {
        "id": "YiqF3sRf3LLC"
      },
      "source": [
        "If you want to train the pose classifier with your own labeled poses (they can be any poses, not just yoga poses), follow these steps:\n",
        "\n",
        "1. Set the above `use_custom_dataset` option to **True**.\n",
        "\n",
        "2. Prepare an archive file (ZIP, TAR, or other) that includes a folder with your images dataset. The folder must include sorted images of your poses as follows.\n",
        "\n",
        "  If you've already split your dataset into train and test sets, then set `dataset_is_split` to **True**. That is, your images folder must include \"train\" and \"test\" directories like this:\n",
        "\n",
        "    ```\n",
        "    yoga_poses/\n",
        "    |__ train/\n",
        "        |__ downdog/\n",
        "            |______ 00000128.jpg\n",
        "            |______ ...\n",
        "    |__ test/\n",
        "        |__ downdog/\n",
        "            |______ 00000181.jpg\n",
        "            |______ ...\n",
        "    ```\n",
        "\n",
        "    Or, if your dataset is NOT split yet, then set\n",
        "    `dataset_is_split` to **False** and we'll split it up based\n",
        "    on a specified split fraction. That is, your uploaded images\n",
        "    folder should look like this:\n",
        "\n",
        "    ```\n",
        "    yoga_poses/\n",
        "    |__ downdog/\n",
        "        |______ 00000128.jpg\n",
        "        |______ 00000181.jpg\n",
        "        |______ ...\n",
        "    |__ goddess/\n",
        "        |______ 00000243.jpg\n",
        "        |______ 00000306.jpg\n",
        "        |______ ...\n",
        "    ```\n",
        "3. Click the **Files** tab on the left (folder icon) and then click **Upload to session storage** (file icon).\n",
        "4. Select your archive file and wait until it finishes uploading before you proceed.\n",
        "5. Edit the following code block to specify the name of your archive file and images directory. (By default, we expect a ZIP file, so you'll need to also modify that part if your archive is another format.)\n",
        "6. Now run the rest of the notebook."
      ]
    },
    {
      "cell_type": "code",
      "execution_count": 9,
      "metadata": {
        "cellView": "form",
        "id": "joAHy_r62dsI"
      },
      "outputs": [],
      "source": [
        "#@markdown Be sure you run this cell. It's hiding the `split_into_train_test()` function that's called in the next code block.\n",
        "\n",
        "import os\n",
        "import random\n",
        "import shutil\n",
        "\n",
        "def split_into_train_test(images_origin, images_dest, test_split):\n",
        "  \"\"\"Splits a directory of sorted images into training and test sets.\n",
        "\n",
        "  Args:\n",
        "    images_origin: Path to the directory with your images. This directory\n",
        "      must include subdirectories for each of your labeled classes. For example:\n",
        "      yoga_poses/\n",
        "      |__ downdog/\n",
        "          |______ 00000128.jpg\n",
        "          |______ 00000181.jpg\n",
        "          |______ ...\n",
        "      |__ goddess/\n",
        "          |______ 00000243.jpg\n",
        "          |______ 00000306.jpg\n",
        "          |______ ...\n",
        "      ...\n",
        "    images_dest: Path to a directory where you want the split dataset to be\n",
        "      saved. The results looks like this:\n",
        "      split_yoga_poses/\n",
        "      |__ train/\n",
        "          |__ downdog/\n",
        "              |______ 00000128.jpg\n",
        "              |______ ...\n",
        "      |__ test/\n",
        "          |__ downdog/\n",
        "              |______ 00000181.jpg\n",
        "              |______ ...\n",
        "    test_split: Fraction of data to reserve for test (float between 0 and 1).\n",
        "  \"\"\"\n",
        "  _, dirs, _ = next(os.walk(images_origin))\n",
        "\n",
        "  TRAIN_DIR = os.path.join(images_dest, 'train')\n",
        "  TEST_DIR = os.path.join(images_dest, 'test')\n",
        "  os.makedirs(TRAIN_DIR, exist_ok=True)\n",
        "  os.makedirs(TEST_DIR, exist_ok=True)\n",
        "\n",
        "  for dir in dirs:\n",
        "    # Get all filenames for this dir, filtered by filetype\n",
        "    filenames = os.listdir(os.path.join(images_origin, dir))\n",
        "    filenames = [os.path.join(images_origin, dir, f) for f in filenames if (\n",
        "        f.endswith('.png') or f.endswith('.jpg') or f.endswith('.jpeg') or f.endswith('.bmp'))]\n",
        "    # Shuffle the files, deterministically\n",
        "    filenames.sort()\n",
        "    random.seed(42)\n",
        "    random.shuffle(filenames)\n",
        "    # Divide them into train/test dirs\n",
        "    os.makedirs(os.path.join(TEST_DIR, dir), exist_ok=True)\n",
        "    os.makedirs(os.path.join(TRAIN_DIR, dir), exist_ok=True)\n",
        "    test_count = int(len(filenames) * test_split)\n",
        "    for i, file in enumerate(filenames):\n",
        "      if i < test_count:\n",
        "        destination = os.path.join(TEST_DIR, dir, os.path.split(file)[1])\n",
        "      else:\n",
        "        destination = os.path.join(TRAIN_DIR, dir, os.path.split(file)[1])\n",
        "      shutil.copyfile(file, destination)\n",
        "    print(f'Moved {test_count} of {len(filenames)} from class \"{dir}\" into test.')\n",
        "  print(f'Your split dataset is in \"{images_dest}\"')"
      ]
    },
    {
      "cell_type": "code",
      "execution_count": 31,
      "metadata": {
        "id": "IfpNIjAmR0lp"
      },
      "outputs": [
        {
          "name": "stdout",
          "output_type": "stream",
          "text": [
            "Moved 1040 of 5203 from class \"lie\" into test.\n",
            "Moved 80 of 404 from class \"lie_to_sit\" into test.\n",
            "Moved 1038 of 5191 from class \"sit\" into test.\n",
            "Moved 79 of 396 from class \"sit_to_lie\" into test.\n",
            "Moved 80 of 402 from class \"sit_to_stand\" into test.\n",
            "Moved 452 of 2262 from class \"stand\" into test.\n",
            "Your split dataset is in \"split_data\"\n"
          ]
        }
      ],
      "source": [
        "if use_custom_dataset:\n",
        "  # ATTENTION:\n",
        "  # You must edit these two lines to match your archive and images folder name:\n",
        "  # !tar -xf YOUR_DATASET_ARCHIVE_NAME.tar\n",
        "  #!unzip -q complete_data.zip\n",
        "  dataset_in = 'data'\n",
        "\n",
        "  # You can leave the rest alone:\n",
        "  if not os.path.isdir(dataset_in):\n",
        "    raise Exception(\"dataset_in is not a valid directory\")\n",
        "  if dataset_is_split:\n",
        "    IMAGES_ROOT = dataset_in\n",
        "  else:\n",
        "    dataset_out = 'split_' + dataset_in\n",
        "    split_into_train_test(dataset_in, dataset_out, test_split=0.2)\n",
        "    IMAGES_ROOT = dataset_out"
      ]
    },
    {
      "cell_type": "markdown",
      "metadata": {
        "id": "IPkTA5-sNF7W"
      },
      "source": [
        "**Note:** If you're using `split_into_train_test()` to split the dataset, it expects all images to be PNG, JPEG, or BMP—it ignores other file types."
      ]
    },
    {
      "cell_type": "markdown",
      "metadata": {
        "id": "dcoak0QHW5d1"
      },
      "source": [
        "### Download the yoga dataset"
      ]
    },
    {
      "cell_type": "code",
      "execution_count": null,
      "metadata": {
        "id": "GVpOi5Hr4Xxt"
      },
      "outputs": [],
      "source": [
        "if not is_skip_step_1 and not use_custom_dataset:\n",
        "  !wget -O yoga_poses.zip http://download.tensorflow.org/data/pose_classification/yoga_poses.zip\n",
        "  !unzip -q yoga_poses.zip -d yoga_cg\n",
        "  IMAGES_ROOT = \"yoga_cg\""
      ]
    },
    {
      "cell_type": "markdown",
      "metadata": {
        "id": "vxOkXvm-TvOZ"
      },
      "source": [
        "### Preprocess the `TRAIN` dataset"
      ]
    },
    {
      "cell_type": "code",
      "execution_count": 32,
      "metadata": {
        "id": "OsdqxGfxTE2H"
      },
      "outputs": [
        {
          "name": "stderr",
          "output_type": "stream",
          "text": [
            "Preprocessing lie\n",
            "  0%|          | 0/4163 [00:00<?, ?it/s]"
          ]
        },
        {
          "name": "stderr",
          "output_type": "stream",
          "text": [
            " 14%|█▎        | 570/4163 [03:56<24:50,  2.41it/s]  \n"
          ]
        },
        {
          "ename": "KeyboardInterrupt",
          "evalue": "",
          "output_type": "error",
          "traceback": [
            "\u001b[1;31m---------------------------------------------------------------------------\u001b[0m",
            "\u001b[1;31mKeyboardInterrupt\u001b[0m                         Traceback (most recent call last)",
            "\u001b[1;32md:\\Trigger-detection-skeletal\\pose_classification.ipynb Cell 24\u001b[0m line \u001b[0;36m1\n\u001b[0;32m      <a href='vscode-notebook-cell:/d%3A/Trigger-detection-skeletal/pose_classification.ipynb#X32sZmlsZQ%3D%3D?line=3'>4</a>\u001b[0m csvs_out_train_path \u001b[39m=\u001b[39m \u001b[39m'\u001b[39m\u001b[39mtrain_data.csv\u001b[39m\u001b[39m'\u001b[39m\n\u001b[0;32m      <a href='vscode-notebook-cell:/d%3A/Trigger-detection-skeletal/pose_classification.ipynb#X32sZmlsZQ%3D%3D?line=5'>6</a>\u001b[0m preprocessor \u001b[39m=\u001b[39m MoveNetPreprocessor(\n\u001b[0;32m      <a href='vscode-notebook-cell:/d%3A/Trigger-detection-skeletal/pose_classification.ipynb#X32sZmlsZQ%3D%3D?line=6'>7</a>\u001b[0m     images_in_folder\u001b[39m=\u001b[39mimages_in_train_folder,\n\u001b[0;32m      <a href='vscode-notebook-cell:/d%3A/Trigger-detection-skeletal/pose_classification.ipynb#X32sZmlsZQ%3D%3D?line=7'>8</a>\u001b[0m     images_out_folder\u001b[39m=\u001b[39mimages_out_train_folder,\n\u001b[0;32m      <a href='vscode-notebook-cell:/d%3A/Trigger-detection-skeletal/pose_classification.ipynb#X32sZmlsZQ%3D%3D?line=8'>9</a>\u001b[0m     csvs_out_path\u001b[39m=\u001b[39mcsvs_out_train_path,\n\u001b[0;32m     <a href='vscode-notebook-cell:/d%3A/Trigger-detection-skeletal/pose_classification.ipynb#X32sZmlsZQ%3D%3D?line=9'>10</a>\u001b[0m )\n\u001b[1;32m---> <a href='vscode-notebook-cell:/d%3A/Trigger-detection-skeletal/pose_classification.ipynb#X32sZmlsZQ%3D%3D?line=11'>12</a>\u001b[0m preprocessor\u001b[39m.\u001b[39;49mprocess(per_pose_class_limit\u001b[39m=\u001b[39;49m\u001b[39mNone\u001b[39;49;00m)\n",
            "\u001b[1;32md:\\Trigger-detection-skeletal\\pose_classification.ipynb Cell 24\u001b[0m line \u001b[0;36m9\n\u001b[0;32m     <a href='vscode-notebook-cell:/d%3A/Trigger-detection-skeletal/pose_classification.ipynb#X32sZmlsZQ%3D%3D?line=95'>96</a>\u001b[0m   \u001b[39mself\u001b[39m\u001b[39m.\u001b[39m_messages\u001b[39m.\u001b[39mappend(\u001b[39m'\u001b[39m\u001b[39mSkipped \u001b[39m\u001b[39m'\u001b[39m \u001b[39m+\u001b[39m image_path \u001b[39m+\u001b[39m\n\u001b[0;32m     <a href='vscode-notebook-cell:/d%3A/Trigger-detection-skeletal/pose_classification.ipynb#X32sZmlsZQ%3D%3D?line=96'>97</a>\u001b[0m                         \u001b[39m'\u001b[39m\u001b[39m. Image isn\u001b[39m\u001b[39m\\'\u001b[39;00m\u001b[39mt in RGB format.\u001b[39m\u001b[39m'\u001b[39m)\n\u001b[0;32m     <a href='vscode-notebook-cell:/d%3A/Trigger-detection-skeletal/pose_classification.ipynb#X32sZmlsZQ%3D%3D?line=97'>98</a>\u001b[0m   \u001b[39mcontinue\u001b[39;00m\n\u001b[1;32m---> <a href='vscode-notebook-cell:/d%3A/Trigger-detection-skeletal/pose_classification.ipynb#X32sZmlsZQ%3D%3D?line=98'>99</a>\u001b[0m person \u001b[39m=\u001b[39m detect(image)\n\u001b[0;32m    <a href='vscode-notebook-cell:/d%3A/Trigger-detection-skeletal/pose_classification.ipynb#X32sZmlsZQ%3D%3D?line=100'>101</a>\u001b[0m \u001b[39m# Save landmarks if all landmarks were detected\u001b[39;00m\n\u001b[0;32m    <a href='vscode-notebook-cell:/d%3A/Trigger-detection-skeletal/pose_classification.ipynb#X32sZmlsZQ%3D%3D?line=101'>102</a>\u001b[0m min_landmark_score \u001b[39m=\u001b[39m \u001b[39mmin\u001b[39m(\n\u001b[0;32m    <a href='vscode-notebook-cell:/d%3A/Trigger-detection-skeletal/pose_classification.ipynb#X32sZmlsZQ%3D%3D?line=102'>103</a>\u001b[0m     [keypoint\u001b[39m.\u001b[39mscore \u001b[39mfor\u001b[39;00m keypoint \u001b[39min\u001b[39;00m person\u001b[39m.\u001b[39mkeypoints])\n",
            "\u001b[1;32md:\\Trigger-detection-skeletal\\pose_classification.ipynb Cell 24\u001b[0m line \u001b[0;36m3\n\u001b[0;32m     <a href='vscode-notebook-cell:/d%3A/Trigger-detection-skeletal/pose_classification.ipynb#X32sZmlsZQ%3D%3D?line=35'>36</a>\u001b[0m image_height, image_width, channel \u001b[39m=\u001b[39m input_tensor\u001b[39m.\u001b[39mshape\n\u001b[0;32m     <a href='vscode-notebook-cell:/d%3A/Trigger-detection-skeletal/pose_classification.ipynb#X32sZmlsZQ%3D%3D?line=37'>38</a>\u001b[0m \u001b[39m# Detect pose using the full input image\u001b[39;00m\n\u001b[1;32m---> <a href='vscode-notebook-cell:/d%3A/Trigger-detection-skeletal/pose_classification.ipynb#X32sZmlsZQ%3D%3D?line=38'>39</a>\u001b[0m movenet\u001b[39m.\u001b[39;49mdetect(input_tensor\u001b[39m.\u001b[39;49mnumpy(), reset_crop_region\u001b[39m=\u001b[39;49m\u001b[39mTrue\u001b[39;49;00m)\n\u001b[0;32m     <a href='vscode-notebook-cell:/d%3A/Trigger-detection-skeletal/pose_classification.ipynb#X32sZmlsZQ%3D%3D?line=40'>41</a>\u001b[0m \u001b[39m# Repeatedly using previous detection result to identify the region of\u001b[39;00m\n\u001b[0;32m     <a href='vscode-notebook-cell:/d%3A/Trigger-detection-skeletal/pose_classification.ipynb#X32sZmlsZQ%3D%3D?line=41'>42</a>\u001b[0m \u001b[39m# interest and only croping that region to improve detection accuracy\u001b[39;00m\n\u001b[0;32m     <a href='vscode-notebook-cell:/d%3A/Trigger-detection-skeletal/pose_classification.ipynb#X32sZmlsZQ%3D%3D?line=42'>43</a>\u001b[0m \u001b[39mfor\u001b[39;00m _ \u001b[39min\u001b[39;00m \u001b[39mrange\u001b[39m(inference_count \u001b[39m-\u001b[39m \u001b[39m1\u001b[39m):\n",
            "File \u001b[1;32md:\\Trigger-detection-skeletal\\ml\\movenet.py:347\u001b[0m, in \u001b[0;36mMovenet.detect\u001b[1;34m(self, input_image, reset_crop_region)\u001b[0m\n\u001b[0;32m    343\u001b[0m   \u001b[39mself\u001b[39m\u001b[39m.\u001b[39m_crop_region \u001b[39m=\u001b[39m \u001b[39mself\u001b[39m\u001b[39m.\u001b[39minit_crop_region(image_height, image_width)\n\u001b[0;32m    345\u001b[0m \u001b[39m# Detect pose using the crop region inferred from the detection result in\u001b[39;00m\n\u001b[0;32m    346\u001b[0m \u001b[39m# the previous frame\u001b[39;00m\n\u001b[1;32m--> 347\u001b[0m keypoint_with_scores \u001b[39m=\u001b[39m \u001b[39mself\u001b[39;49m\u001b[39m.\u001b[39;49m_run_detector(\n\u001b[0;32m    348\u001b[0m     input_image,\n\u001b[0;32m    349\u001b[0m     \u001b[39mself\u001b[39;49m\u001b[39m.\u001b[39;49m_crop_region,\n\u001b[0;32m    350\u001b[0m     crop_size\u001b[39m=\u001b[39;49m(\u001b[39mself\u001b[39;49m\u001b[39m.\u001b[39;49m_input_height, \u001b[39mself\u001b[39;49m\u001b[39m.\u001b[39;49m_input_width))\n\u001b[0;32m    351\u001b[0m \u001b[39m# Calculate the crop region for the next frame\u001b[39;00m\n\u001b[0;32m    352\u001b[0m \u001b[39mself\u001b[39m\u001b[39m.\u001b[39m_crop_region \u001b[39m=\u001b[39m \u001b[39mself\u001b[39m\u001b[39m.\u001b[39m_determine_crop_region(keypoint_with_scores,\n\u001b[0;32m    353\u001b[0m                                                 image_height, image_width)\n",
            "File \u001b[1;32md:\\Trigger-detection-skeletal\\ml\\movenet.py:308\u001b[0m, in \u001b[0;36mMovenet._run_detector\u001b[1;34m(self, image, crop_region, crop_size)\u001b[0m\n\u001b[0;32m    304\u001b[0m input_image \u001b[39m=\u001b[39m input_image\u001b[39m.\u001b[39mastype(dtype\u001b[39m=\u001b[39mnp\u001b[39m.\u001b[39muint8)\n\u001b[0;32m    306\u001b[0m \u001b[39mself\u001b[39m\u001b[39m.\u001b[39m_interpreter\u001b[39m.\u001b[39mset_tensor(\u001b[39mself\u001b[39m\u001b[39m.\u001b[39m_input_index,\n\u001b[0;32m    307\u001b[0m                              np\u001b[39m.\u001b[39mexpand_dims(input_image, axis\u001b[39m=\u001b[39m\u001b[39m0\u001b[39m))\n\u001b[1;32m--> 308\u001b[0m \u001b[39mself\u001b[39;49m\u001b[39m.\u001b[39;49m_interpreter\u001b[39m.\u001b[39;49minvoke()\n\u001b[0;32m    310\u001b[0m keypoints_with_scores \u001b[39m=\u001b[39m \u001b[39mself\u001b[39m\u001b[39m.\u001b[39m_interpreter\u001b[39m.\u001b[39mget_tensor(\u001b[39mself\u001b[39m\u001b[39m.\u001b[39m_output_index)\n\u001b[0;32m    311\u001b[0m keypoints_with_scores \u001b[39m=\u001b[39m np\u001b[39m.\u001b[39msqueeze(keypoints_with_scores)\n",
            "File \u001b[1;32mc:\\Users\\mhasaan\\AppData\\Local\\miniconda3\\Lib\\site-packages\\tensorflow\\lite\\python\\interpreter.py:941\u001b[0m, in \u001b[0;36mInterpreter.invoke\u001b[1;34m(self)\u001b[0m\n\u001b[0;32m    929\u001b[0m \u001b[39m\u001b[39m\u001b[39m\"\"\"Invoke the interpreter.\u001b[39;00m\n\u001b[0;32m    930\u001b[0m \n\u001b[0;32m    931\u001b[0m \u001b[39mBe sure to set the input sizes, allocate tensors and fill values before\u001b[39;00m\n\u001b[1;32m   (...)\u001b[0m\n\u001b[0;32m    938\u001b[0m \u001b[39m  ValueError: When the underlying interpreter fails raise ValueError.\u001b[39;00m\n\u001b[0;32m    939\u001b[0m \u001b[39m\"\"\"\u001b[39;00m\n\u001b[0;32m    940\u001b[0m \u001b[39mself\u001b[39m\u001b[39m.\u001b[39m_ensure_safe()\n\u001b[1;32m--> 941\u001b[0m \u001b[39mself\u001b[39;49m\u001b[39m.\u001b[39;49m_interpreter\u001b[39m.\u001b[39;49mInvoke()\n",
            "\u001b[1;31mKeyboardInterrupt\u001b[0m: "
          ]
        }
      ],
      "source": [
        "if not is_skip_step_1:\n",
        "  images_in_train_folder = os.path.join(IMAGES_ROOT, 'train')\n",
        "  images_out_train_folder = 'poses_images_out_train'\n",
        "  csvs_out_train_path = 'train_data.csv'\n",
        "\n",
        "  preprocessor = MoveNetPreprocessor(\n",
        "      images_in_folder=images_in_train_folder,\n",
        "      images_out_folder=images_out_train_folder,\n",
        "      csvs_out_path=csvs_out_train_path,\n",
        "  )\n",
        "\n",
        "  preprocessor.process(per_pose_class_limit=None)"
      ]
    },
    {
      "cell_type": "markdown",
      "metadata": {
        "id": "cQtgAeHVT0UE"
      },
      "source": [
        "### Preprocess the `TEST` dataset"
      ]
    },
    {
      "cell_type": "code",
      "execution_count": 23,
      "metadata": {
        "id": "hddKVPjrTNbt"
      },
      "outputs": [
        {
          "name": "stderr",
          "output_type": "stream",
          "text": [
            "Preprocessing lie\n",
            "100%|██████████| 157/157 [00:51<00:00,  3.04it/s]\n",
            "Preprocessing lie_to_sit\n",
            "100%|██████████| 80/80 [00:29<00:00,  2.69it/s]\n",
            "Preprocessing sit\n",
            "100%|██████████| 71/71 [00:24<00:00,  2.86it/s]\n",
            "Preprocessing sit_to_stand\n",
            "100%|██████████| 80/80 [00:28<00:00,  2.78it/s]\n",
            "Preprocessing stand\n",
            "100%|██████████| 162/162 [00:56<00:00,  2.86it/s]\n"
          ]
        },
        {
          "name": "stdout",
          "output_type": "stream",
          "text": [
            "Skipped split_data\\test\\lie\\abdullah_sittl_fast4_903.05.jpg. No pose was confidentlly detected.\n",
            "Skipped split_data\\test\\lie\\stllts19_903.15.jpg. No pose was confidentlly detected.\n",
            "Skipped split_data\\test\\lie\\stllts19_904.15.jpg. No pose was confidentlly detected.\n",
            "Skipped split_data\\test\\lie\\stllts33_901.15.jpg. No pose was confidentlly detected.\n",
            "Skipped split_data\\test\\lie\\stllts34_903.05.jpg. No pose was confidentlly detected.\n",
            "Skipped split_data\\test\\lie\\stllts34_903.25.jpg. No pose was confidentlly detected.\n",
            "Skipped split_data\\test\\lie\\stllts61_902.25.jpg. No pose was confidentlly detected.\n",
            "Skipped split_data\\test\\lie\\stllts61_903.05.jpg. No pose was confidentlly detected.\n",
            "Skipped split_data\\test\\lie\\stllts74_904.05.jpg. No pose was confidentlly detected.\n",
            "Skipped split_data\\test\\lie\\stllts80_901.05.jpg. No pose was confidentlly detected.\n",
            "Skipped split_data\\test\\lie\\supportvideo123_902.15.jpg. No pose was confidentlly detected.\n",
            "Skipped split_data\\test\\lie\\supportvideo124_910.25.jpg. No pose was confidentlly detected.\n",
            "Skipped split_data\\test\\lie\\supportvideo124_911.15.jpg. No pose was confidentlly detected.\n",
            "Skipped split_data\\test\\lie\\supportvideo124_911.25.jpg. No pose was confidentlly detected.\n",
            "Skipped split_data\\test\\lie\\supportvideo125_903.25.jpg. No pose was confidentlly detected.\n",
            "Skipped split_data\\test\\lie\\supportvideo130_901.05.jpg. No pose was confidentlly detected.\n",
            "Skipped split_data\\test\\lie\\supportvideo130_901.25.jpg. No pose was confidentlly detected.\n",
            "Skipped split_data\\test\\lie\\supportvideo131_902.05.jpg. No pose was confidentlly detected.\n",
            "Skipped split_data\\test\\lie\\supportvideo137_902.25.jpg. No pose was confidentlly detected.\n",
            "Skipped split_data\\test\\lie\\supportvideo138_902.05.jpg. No pose was confidentlly detected.\n",
            "Skipped split_data\\test\\lie\\supportvideo149_902.15.jpg. No pose was confidentlly detected.\n",
            "Skipped split_data\\test\\lie\\supportvideo149_903.15.jpg. No pose was confidentlly detected.\n",
            "Skipped split_data\\test\\lie\\supportvideo150_901.25.jpg. No pose was confidentlly detected.\n",
            "Skipped split_data\\test\\lie\\supportvideo150_903.15.jpg. No pose was confidentlly detected.\n",
            "Skipped split_data\\test\\lie\\supportvideo47_909.05.jpg. No pose was confidentlly detected.\n",
            "Skipped split_data\\test\\lie\\supportvideo57_906.15.jpg. No pose was confidentlly detected.\n",
            "Skipped split_data\\test\\lie\\supportvideo58_901.05.jpg. No pose was confidentlly detected.\n",
            "Skipped split_data\\test\\lie\\supportvideo58_901.15.jpg. No pose was confidentlly detected.\n",
            "Skipped split_data\\test\\lie\\supportvideo58_902.15.jpg. No pose was confidentlly detected.\n",
            "Skipped split_data\\test\\lie\\supportvideo58_902.25.jpg. No pose was confidentlly detected.\n",
            "Skipped split_data\\test\\lie\\supportvideo60_905.05.jpg. No pose was confidentlly detected.\n",
            "Skipped split_data\\test\\lie\\supportvideo66_901.15.jpg. No pose was confidentlly detected.\n",
            "Skipped split_data\\test\\lie\\supportvideo69_906.25.jpg. No pose was confidentlly detected.\n",
            "Skipped split_data\\test\\lie\\supportvideo69_909.25.jpg. No pose was confidentlly detected.\n",
            "Skipped split_data\\test\\lie\\supportvideo70_901.15.jpg. No pose was confidentlly detected.\n",
            "Skipped split_data\\test\\lie\\supportvideo71_904.25.jpg. No pose was confidentlly detected.\n",
            "Skipped split_data\\test\\lie\\supportvideo74_905.25.jpg. No pose was confidentlly detected.\n",
            "Skipped split_data\\test\\lie\\supportvideo74_906.05.jpg. No pose was confidentlly detected.\n",
            "Skipped split_data\\test\\lie\\supportvideo76_909.15.jpg. No pose was confidentlly detected.\n",
            "Skipped split_data\\test\\lie\\supportvideo79_902.25.jpg. No pose was confidentlly detected.\n",
            "Skipped split_data\\test\\lie\\turyal_lts_normal27_901.05.jpg. No pose was confidentlly detected.\n",
            "Skipped split_data\\test\\lie\\turyal_lts_normal33_901.15.jpg. No pose was confidentlly detected.\n",
            "Skipped split_data\\test\\lie_to_sit\\adlvideo200_903.25.jpg. No pose was confidentlly detected.\n",
            "Skipped split_data\\test\\lie_to_sit\\adlvideo251_903.25.jpg. No pose was confidentlly detected.\n",
            "Skipped split_data\\test\\lie_to_sit\\adlvideo276_903.25.jpg. No pose was confidentlly detected.\n",
            "Skipped split_data\\test\\lie_to_sit\\adlvideo466_903.25.jpg. No pose was confidentlly detected.\n",
            "Skipped split_data\\test\\lie_to_sit\\adlvideo480_904.25.jpg. No pose was confidentlly detected.\n",
            "Skipped split_data\\test\\lie_to_sit\\hassaan_lts_normal8_901.25.jpg. No pose was confidentlly detected.\n",
            "Skipped split_data\\test\\lie_to_sit\\irtiza_lts_normal17_902.15.jpg. No pose was confidentlly detected.\n",
            "Skipped split_data\\test\\lie_to_sit\\irtiza_lts_normal20_903.05.jpg. No pose was confidentlly detected.\n",
            "Skipped split_data\\test\\lie_to_sit\\irtiza_lts_normal28_904.05.jpg. No pose was confidentlly detected.\n",
            "Skipped split_data\\test\\lie_to_sit\\stllts21_903.05.jpg. No pose was confidentlly detected.\n",
            "Skipped split_data\\test\\lie_to_sit\\stllts37_903.15.jpg. No pose was confidentlly detected.\n",
            "Skipped split_data\\test\\lie_to_sit\\supportvideo60_906.15.jpg. No pose was confidentlly detected.\n",
            "Skipped split_data\\test\\lie_to_sit\\supportvideo62_904.25.jpg. No pose was confidentlly detected.\n",
            "Skipped split_data\\test\\lie_to_sit\\supportvideo62_905.15.jpg. No pose was confidentlly detected.\n",
            "Skipped split_data\\test\\lie_to_sit\\turyal_lts_normal24_901.15.jpg. No pose was confidentlly detected.\n",
            "Skipped split_data\\test\\sit\\jehanzeb_sittl_medium5_902.05.jpg. No pose was confidentlly detected.\n",
            "Skipped split_data\\test\\sit\\jehanzeb_sittl_slow4_902.05.jpg. No pose was confidentlly detected.\n",
            "Skipped split_data\\test\\sit\\stllts20_903.15.jpg. No pose was confidentlly detected.\n",
            "Skipped split_data\\test\\sit\\stllts75_903.05.jpg. No pose was confidentlly detected.\n",
            "Skipped split_data\\test\\sit\\supportvideo13_906.25.jpg. No pose was confidentlly detected.\n",
            "Skipped split_data\\test\\sit\\supportvideo16_902.15.jpg. No pose was confidentlly detected.\n",
            "Skipped split_data\\test\\sit\\supportvideo16_902.25.jpg. No pose was confidentlly detected.\n",
            "Skipped split_data\\test\\sit_to_stand\\adlvideo125_903.15.jpg. No pose was confidentlly detected.\n",
            "Skipped split_data\\test\\sit_to_stand\\adlvideo126_904.05.jpg. No pose was confidentlly detected.\n",
            "Skipped split_data\\test\\sit_to_stand\\adlvideo149_903.05.jpg. No pose was confidentlly detected.\n",
            "Skipped split_data\\test\\sit_to_stand\\adlvideo158_903.15.jpg. No pose was confidentlly detected.\n",
            "Skipped split_data\\test\\sit_to_stand\\adlvideo192_903.25.jpg. No pose was confidentlly detected.\n",
            "Skipped split_data\\test\\sit_to_stand\\adlvideo235_905.05.jpg. No pose was confidentlly detected.\n",
            "Skipped split_data\\test\\sit_to_stand\\adlvideo461_903.05.jpg. No pose was confidentlly detected.\n",
            "Skipped split_data\\test\\sit_to_stand\\adlvideo5_904.05.jpg. No pose was confidentlly detected.\n",
            "Skipped split_data\\test\\sit_to_stand\\adlvideo723_903.05.jpg. No pose was confidentlly detected.\n",
            "Skipped split_data\\test\\sit_to_stand\\adlvideo736_903.05.jpg. No pose was confidentlly detected.\n",
            "Skipped split_data\\test\\sit_to_stand\\adlvideo75_903.25.jpg. No pose was confidentlly detected.\n",
            "Skipped split_data\\test\\sit_to_stand\\supportvideo118_905.25.jpg. No pose was confidentlly detected.\n",
            "Skipped split_data\\test\\sit_to_stand\\supportvideo28_901.25.jpg. No pose was confidentlly detected.\n",
            "Skipped split_data\\test\\sit_to_stand\\supportvideo28_902.15.jpg. No pose was confidentlly detected.\n",
            "Skipped split_data\\test\\sit_to_stand\\supportvideo30_904.15.jpg. No pose was confidentlly detected.\n",
            "Skipped split_data\\test\\sit_to_stand\\supportvideo39_904.25.jpg. No pose was confidentlly detected.\n",
            "Skipped split_data\\test\\sit_to_stand\\supportvideo41_904.05.jpg. No pose was confidentlly detected.\n",
            "Skipped split_data\\test\\sit_to_stand\\supportvideo43_904.25.jpg. No pose was confidentlly detected.\n",
            "Skipped split_data\\test\\sit_to_stand\\supportvideo45_903.05.jpg. No pose was confidentlly detected.\n",
            "Skipped split_data\\test\\stand\\adlvideo221_903.05.jpg. No pose was confidentlly detected.\n",
            "Skipped split_data\\test\\stand\\adlvideo227_903.15.jpg. No pose was confidentlly detected.\n",
            "Skipped split_data\\test\\stand\\adlvideo234_904.15.jpg. No pose was confidentlly detected.\n",
            "Skipped split_data\\test\\stand\\adlvideo262_904.05.jpg. No pose was confidentlly detected.\n",
            "Skipped split_data\\test\\stand\\adlvideo270_901.05.jpg. No pose was confidentlly detected.\n",
            "Skipped split_data\\test\\stand\\adlvideo278_905.05.jpg. No pose was confidentlly detected.\n",
            "Skipped split_data\\test\\stand\\adlvideo286_903.25.jpg. No pose was confidentlly detected.\n",
            "Skipped split_data\\test\\stand\\adlvideo294_902.25.jpg. No pose was confidentlly detected.\n",
            "Skipped split_data\\test\\stand\\adlvideo296_901.05.jpg. No pose was confidentlly detected.\n",
            "Skipped split_data\\test\\stand\\adlvideo296_905.15.jpg. No pose was confidentlly detected.\n",
            "Skipped split_data\\test\\stand\\adlvideo477_904.05.jpg. No pose was confidentlly detected.\n",
            "Skipped split_data\\test\\stand\\adlvideo486_902.05.jpg. No pose was confidentlly detected.\n",
            "Skipped split_data\\test\\stand\\adlvideo486_902.15.jpg. No pose was confidentlly detected.\n",
            "Skipped split_data\\test\\stand\\adlvideo522_906.25.jpg. No pose was confidentlly detected.\n",
            "Skipped split_data\\test\\stand\\adlvideo522_908.15.jpg. No pose was confidentlly detected.\n",
            "Skipped split_data\\test\\stand\\adlvideo560_904.25.jpg. No pose was confidentlly detected.\n",
            "Skipped split_data\\test\\stand\\adlvideo707_901.05.jpg. No pose was confidentlly detected.\n",
            "Skipped split_data\\test\\stand\\supportvideo14_906.25.jpg. No pose was confidentlly detected.\n",
            "Skipped split_data\\test\\stand\\supportvideo14_907.25.jpg. No pose was confidentlly detected.\n",
            "Skipped split_data\\test\\stand\\supportvideo28_906.15.jpg. No pose was confidentlly detected.\n",
            "Skipped split_data\\test\\stand\\supportvideo29_901.15.jpg. No pose was confidentlly detected.\n",
            "Skipped split_data\\test\\stand\\supportvideo30_906.05.jpg. No pose was confidentlly detected.\n",
            "Skipped split_data\\test\\stand\\supportvideo30_906.25.jpg. No pose was confidentlly detected.\n",
            "Skipped split_data\\test\\stand\\supportvideo40_901.25.jpg. No pose was confidentlly detected.\n",
            "Skipped split_data\\test\\stand\\supportvideo45_906.25.jpg. No pose was confidentlly detected.\n",
            "Skipped split_data\\test\\stand\\supportvideo46_901.15.jpg. No pose was confidentlly detected.\n"
          ]
        }
      ],
      "source": [
        "if not is_skip_step_1:\n",
        "  images_in_test_folder = os.path.join(IMAGES_ROOT, 'test')\n",
        "  images_out_test_folder = 'poses_images_out_test'\n",
        "  csvs_out_test_path = 'test_data.csv'\n",
        "\n",
        "  preprocessor = MoveNetPreprocessor(\n",
        "      images_in_folder=images_in_test_folder,\n",
        "      images_out_folder=images_out_test_folder,\n",
        "      csvs_out_path=csvs_out_test_path,\n",
        "  )\n",
        "\n",
        "  preprocessor.process(per_pose_class_limit=None)"
      ]
    },
    {
      "cell_type": "markdown",
      "metadata": {
        "id": "UevEKViRT_6J"
      },
      "source": [
        "## Part 2: Train a pose classification model that takes the landmark coordinates as input, and output the predicted labels.\n",
        "\n",
        "You'll build a TensorFlow model that takes the landmark coordinates and predicts the pose class that the person in the input image performs. The model consists of two submodels:\n",
        "\n",
        "* Submodel 1 calculates a pose embedding (a.k.a feature vector) from the detected landmark coordinates.\n",
        "* Submodel 2 feeds pose embedding through several `Dense` layer to predict the pose class.\n",
        "\n",
        "You'll then train the model based on the dataset that were preprocessed in part 1."
      ]
    },
    {
      "cell_type": "markdown",
      "metadata": {
        "id": "E2D1czPJazvb"
      },
      "source": [
        "### (Optional) Download the preprocessed dataset if you didn't run part 1"
      ]
    },
    {
      "cell_type": "code",
      "execution_count": null,
      "metadata": {
        "id": "ShpOD7yb4MRp"
      },
      "outputs": [],
      "source": [
        "# Download the preprocessed CSV files which are the same as the output of step 1\n",
        "if is_skip_step_1:\n",
        "  !wget -O train_data.csv http://download.tensorflow.org/data/pose_classification/yoga_train_data.csv\n",
        "  !wget -O test_data.csv http://download.tensorflow.org/data/pose_classification/yoga_test_data.csv\n",
        "\n",
        "  csvs_out_train_path = 'train_data.csv'\n",
        "  csvs_out_test_path = 'test_data.csv'\n",
        "  is_skipped_step_1 = True"
      ]
    },
    {
      "cell_type": "markdown",
      "metadata": {
        "id": "iGMcoSwLwRSD"
      },
      "source": [
        "### Load the preprocessed CSVs into `TRAIN` and `TEST` datasets."
      ]
    },
    {
      "cell_type": "code",
      "execution_count": 24,
      "metadata": {
        "id": "pOUcc8EL5rrj"
      },
      "outputs": [],
      "source": [
        "def load_pose_landmarks(csv_path):\n",
        "  \"\"\"Loads a CSV created by MoveNetPreprocessor.\n",
        "  \n",
        "  Returns:\n",
        "    X: Detected landmark coordinates and scores of shape (N, 17 * 3)\n",
        "    y: Ground truth labels of shape (N, label_count)\n",
        "    classes: The list of all class names found in the dataset\n",
        "    dataframe: The CSV loaded as a Pandas dataframe features (X) and ground\n",
        "      truth labels (y) to use later to train a pose classification model.\n",
        "  \"\"\"\n",
        "\n",
        "  # Load the CSV file\n",
        "  dataframe = pd.read_csv(csv_path)\n",
        "  df_to_process = dataframe.copy()\n",
        "\n",
        "  # Drop the file_name columns as you don't need it during training.\n",
        "  df_to_process.drop(columns=['file_name'], inplace=True)\n",
        "\n",
        "  # Extract the list of class names\n",
        "  classes = df_to_process.pop('class_name').unique()\n",
        "\n",
        "  # Extract the labels\n",
        "  y = df_to_process.pop('class_no')\n",
        "\n",
        "  # Convert the input features and labels into the correct format for training.\n",
        "  X = df_to_process.astype('float64')\n",
        "  y = keras.utils.to_categorical(y)\n",
        "\n",
        "  return X, y, classes, dataframe"
      ]
    },
    {
      "cell_type": "markdown",
      "metadata": {
        "id": "UMrLzfPz7E1U"
      },
      "source": [
        "Load and split the original `TRAIN` dataset into `TRAIN` (85% of the data) and `VALIDATE` (the remaining 15%)."
      ]
    },
    {
      "cell_type": "code",
      "execution_count": 25,
      "metadata": {
        "id": "xawmSDGXUUzW"
      },
      "outputs": [],
      "source": [
        "# Load the train data\n",
        "X, y, class_names, _ = load_pose_landmarks(csvs_out_train_path)\n",
        "\n",
        "# Split training data (X, y) into (X_train, y_train) and (X_val, y_val)\n",
        "X_train, X_val, y_train, y_val = train_test_split(X, y,\n",
        "                                                  test_size=0.15)"
      ]
    },
    {
      "cell_type": "code",
      "execution_count": 26,
      "metadata": {
        "id": "R42kicUMaTX0"
      },
      "outputs": [],
      "source": [
        "# Load the test data\n",
        "X_test, y_test, _, df_test = load_pose_landmarks(csvs_out_test_path)"
      ]
    },
    {
      "cell_type": "markdown",
      "metadata": {
        "id": "ydb-bd_UWXMq"
      },
      "source": [
        "### Define functions to convert the pose landmarks to a pose embedding (a.k.a. feature vector) for pose classification\n",
        "\n",
        "Next, convert the landmark coordinates to a feature vector by:\n",
        "1. Moving the pose center to the origin.\n",
        "2. Scaling the pose so that the pose size becomes 1\n",
        "3. Flattening these coordinates into a feature vector\n",
        "\n",
        "Then use this feature vector to train a neural-network based pose classifier."
      ]
    },
    {
      "cell_type": "code",
      "execution_count": 27,
      "metadata": {
        "id": "HgQMdfeT65Z5"
      },
      "outputs": [],
      "source": [
        "def get_center_point(landmarks, left_bodypart, right_bodypart):\n",
        "  \"\"\"Calculates the center point of the two given landmarks.\"\"\"\n",
        "\n",
        "  left = tf.gather(landmarks, left_bodypart.value, axis=1)\n",
        "  right = tf.gather(landmarks, right_bodypart.value, axis=1)\n",
        "  center = left * 0.5 + right * 0.5\n",
        "  return center\n",
        "\n",
        "\n",
        "def get_pose_size(landmarks, torso_size_multiplier=2.5):\n",
        "  \"\"\"Calculates pose size.\n",
        "\n",
        "  It is the maximum of two values:\n",
        "    * Torso size multiplied by `torso_size_multiplier`\n",
        "    * Maximum distance from pose center to any pose landmark\n",
        "  \"\"\"\n",
        "  # Hips center\n",
        "  hips_center = get_center_point(landmarks, BodyPart.LEFT_HIP, \n",
        "                                 BodyPart.RIGHT_HIP)\n",
        "\n",
        "  # Shoulders center\n",
        "  shoulders_center = get_center_point(landmarks, BodyPart.LEFT_SHOULDER,\n",
        "                                      BodyPart.RIGHT_SHOULDER)\n",
        "\n",
        "  # Torso size as the minimum body size\n",
        "  torso_size = tf.linalg.norm(shoulders_center - hips_center)\n",
        "\n",
        "  # Pose center\n",
        "  pose_center_new = get_center_point(landmarks, BodyPart.LEFT_HIP, \n",
        "                                     BodyPart.RIGHT_HIP)\n",
        "  pose_center_new = tf.expand_dims(pose_center_new, axis=1)\n",
        "  # Broadcast the pose center to the same size as the landmark vector to\n",
        "  # perform substraction\n",
        "  pose_center_new = tf.broadcast_to(pose_center_new,\n",
        "                                    [tf.size(landmarks) // (17*2), 17, 2])\n",
        "\n",
        "  # Dist to pose center\n",
        "  d = tf.gather(landmarks - pose_center_new, 0, axis=0,\n",
        "                name=\"dist_to_pose_center\")\n",
        "  # Max dist to pose center\n",
        "  max_dist = tf.reduce_max(tf.linalg.norm(d, axis=0))\n",
        "\n",
        "  # Normalize scale\n",
        "  pose_size = tf.maximum(torso_size * torso_size_multiplier, max_dist)\n",
        "\n",
        "  return pose_size\n",
        "\n",
        "\n",
        "def normalize_pose_landmarks(landmarks):\n",
        "  \"\"\"Normalizes the landmarks translation by moving the pose center to (0,0) and\n",
        "  scaling it to a constant pose size.\n",
        "  \"\"\"\n",
        "  # Move landmarks so that the pose center becomes (0,0)\n",
        "  pose_center = get_center_point(landmarks, BodyPart.LEFT_HIP, \n",
        "                                 BodyPart.RIGHT_HIP)\n",
        "  pose_center = tf.expand_dims(pose_center, axis=1)\n",
        "  # Broadcast the pose center to the same size as the landmark vector to perform\n",
        "  # substraction\n",
        "  pose_center = tf.broadcast_to(pose_center, \n",
        "                                [tf.size(landmarks) // (17*2), 17, 2])\n",
        "  landmarks = landmarks - pose_center\n",
        "\n",
        "  # Scale the landmarks to a constant pose size\n",
        "  pose_size = get_pose_size(landmarks)\n",
        "  landmarks /= pose_size\n",
        "\n",
        "  return landmarks\n",
        "\n",
        "\n",
        "def landmarks_to_embedding(landmarks_and_scores):\n",
        "  \"\"\"Converts the input landmarks into a pose embedding.\"\"\"\n",
        "  # Reshape the flat input into a matrix with shape=(17, 3)\n",
        "  reshaped_inputs = keras.layers.Reshape((17, 3))(landmarks_and_scores)\n",
        "\n",
        "  # Normalize landmarks 2D\n",
        "  landmarks = normalize_pose_landmarks(reshaped_inputs[:, :, :2])\n",
        "\n",
        "  # Flatten the normalized landmark coordinates into a vector\n",
        "  embedding = keras.layers.Flatten()(landmarks)\n",
        "\n",
        "  return embedding"
      ]
    },
    {
      "cell_type": "markdown",
      "metadata": {
        "id": "PI7Wb3Bagau3"
      },
      "source": [
        "### Define a Keras model for pose classification\n",
        "\n",
        "Our Keras model takes the detected pose landmarks, then calculates the pose embedding and predicts the pose class."
      ]
    },
    {
      "cell_type": "code",
      "execution_count": 28,
      "metadata": {
        "id": "1Pte6b1bgWKv"
      },
      "outputs": [
        {
          "name": "stdout",
          "output_type": "stream",
          "text": [
            "Model: \"model\"\n",
            "__________________________________________________________________________________________________\n",
            " Layer (type)                Output Shape                 Param #   Connected to                  \n",
            "==================================================================================================\n",
            " input_1 (InputLayer)        [(None, 51)]                 0         []                            \n",
            "                                                                                                  \n",
            " reshape (Reshape)           (None, 17, 3)                0         ['input_1[0][0]']             \n",
            "                                                                                                  \n",
            " tf.__operators__.getitem (  (None, 17, 2)                0         ['reshape[0][0]']             \n",
            " SlicingOpLambda)                                                                                 \n",
            "                                                                                                  \n",
            " tf.compat.v1.gather (TFOpL  (None, 2)                    0         ['tf.__operators__.getitem[0][\n",
            " ambda)                                                             0]']                          \n",
            "                                                                                                  \n",
            " tf.compat.v1.gather_1 (TFO  (None, 2)                    0         ['tf.__operators__.getitem[0][\n",
            " pLambda)                                                           0]']                          \n",
            "                                                                                                  \n",
            " tf.math.multiply (TFOpLamb  (None, 2)                    0         ['tf.compat.v1.gather[0][0]'] \n",
            " da)                                                                                              \n",
            "                                                                                                  \n",
            " tf.math.multiply_1 (TFOpLa  (None, 2)                    0         ['tf.compat.v1.gather_1[0][0]'\n",
            " mbda)                                                              ]                             \n",
            "                                                                                                  \n",
            " tf.__operators__.add (TFOp  (None, 2)                    0         ['tf.math.multiply[0][0]',    \n",
            " Lambda)                                                             'tf.math.multiply_1[0][0]']  \n",
            "                                                                                                  \n",
            " tf.compat.v1.size (TFOpLam  ()                           0         ['tf.__operators__.getitem[0][\n",
            " bda)                                                               0]']                          \n",
            "                                                                                                  \n",
            " tf.expand_dims (TFOpLambda  (None, 1, 2)                 0         ['tf.__operators__.add[0][0]']\n",
            " )                                                                                                \n",
            "                                                                                                  \n",
            " tf.compat.v1.floor_div (TF  ()                           0         ['tf.compat.v1.size[0][0]']   \n",
            " OpLambda)                                                                                        \n",
            "                                                                                                  \n",
            " tf.broadcast_to (TFOpLambd  (None, 17, 2)                0         ['tf.expand_dims[0][0]',      \n",
            " a)                                                                  'tf.compat.v1.floor_div[0][0]\n",
            "                                                                    ']                            \n",
            "                                                                                                  \n",
            " tf.math.subtract (TFOpLamb  (None, 17, 2)                0         ['tf.__operators__.getitem[0][\n",
            " da)                                                                0]',                          \n",
            "                                                                     'tf.broadcast_to[0][0]']     \n",
            "                                                                                                  \n",
            " tf.compat.v1.gather_6 (TFO  (None, 2)                    0         ['tf.math.subtract[0][0]']    \n",
            " pLambda)                                                                                         \n",
            "                                                                                                  \n",
            " tf.compat.v1.gather_7 (TFO  (None, 2)                    0         ['tf.math.subtract[0][0]']    \n",
            " pLambda)                                                                                         \n",
            "                                                                                                  \n",
            " tf.math.multiply_6 (TFOpLa  (None, 2)                    0         ['tf.compat.v1.gather_6[0][0]'\n",
            " mbda)                                                              ]                             \n",
            "                                                                                                  \n",
            " tf.math.multiply_7 (TFOpLa  (None, 2)                    0         ['tf.compat.v1.gather_7[0][0]'\n",
            " mbda)                                                              ]                             \n",
            "                                                                                                  \n",
            " tf.__operators__.add_3 (TF  (None, 2)                    0         ['tf.math.multiply_6[0][0]',  \n",
            " OpLambda)                                                           'tf.math.multiply_7[0][0]']  \n",
            "                                                                                                  \n",
            " tf.compat.v1.size_1 (TFOpL  ()                           0         ['tf.math.subtract[0][0]']    \n",
            " ambda)                                                                                           \n",
            "                                                                                                  \n",
            " tf.compat.v1.gather_4 (TFO  (None, 2)                    0         ['tf.math.subtract[0][0]']    \n",
            " pLambda)                                                                                         \n",
            "                                                                                                  \n",
            " tf.compat.v1.gather_5 (TFO  (None, 2)                    0         ['tf.math.subtract[0][0]']    \n",
            " pLambda)                                                                                         \n",
            "                                                                                                  \n",
            " tf.compat.v1.gather_2 (TFO  (None, 2)                    0         ['tf.math.subtract[0][0]']    \n",
            " pLambda)                                                                                         \n",
            "                                                                                                  \n",
            " tf.compat.v1.gather_3 (TFO  (None, 2)                    0         ['tf.math.subtract[0][0]']    \n",
            " pLambda)                                                                                         \n",
            "                                                                                                  \n",
            " tf.expand_dims_1 (TFOpLamb  (None, 1, 2)                 0         ['tf.__operators__.add_3[0][0]\n",
            " da)                                                                ']                            \n",
            "                                                                                                  \n",
            " tf.compat.v1.floor_div_1 (  ()                           0         ['tf.compat.v1.size_1[0][0]'] \n",
            " TFOpLambda)                                                                                      \n",
            "                                                                                                  \n",
            " tf.math.multiply_4 (TFOpLa  (None, 2)                    0         ['tf.compat.v1.gather_4[0][0]'\n",
            " mbda)                                                              ]                             \n",
            "                                                                                                  \n",
            " tf.math.multiply_5 (TFOpLa  (None, 2)                    0         ['tf.compat.v1.gather_5[0][0]'\n",
            " mbda)                                                              ]                             \n",
            "                                                                                                  \n",
            " tf.math.multiply_2 (TFOpLa  (None, 2)                    0         ['tf.compat.v1.gather_2[0][0]'\n",
            " mbda)                                                              ]                             \n",
            "                                                                                                  \n",
            " tf.math.multiply_3 (TFOpLa  (None, 2)                    0         ['tf.compat.v1.gather_3[0][0]'\n",
            " mbda)                                                              ]                             \n",
            "                                                                                                  \n",
            " tf.broadcast_to_1 (TFOpLam  (None, 17, 2)                0         ['tf.expand_dims_1[0][0]',    \n",
            " bda)                                                                'tf.compat.v1.floor_div_1[0][\n",
            "                                                                    0]']                          \n",
            "                                                                                                  \n",
            " tf.__operators__.add_2 (TF  (None, 2)                    0         ['tf.math.multiply_4[0][0]',  \n",
            " OpLambda)                                                           'tf.math.multiply_5[0][0]']  \n",
            "                                                                                                  \n",
            " tf.__operators__.add_1 (TF  (None, 2)                    0         ['tf.math.multiply_2[0][0]',  \n",
            " OpLambda)                                                           'tf.math.multiply_3[0][0]']  \n",
            "                                                                                                  \n",
            " tf.math.subtract_2 (TFOpLa  (None, 17, 2)                0         ['tf.math.subtract[0][0]',    \n",
            " mbda)                                                               'tf.broadcast_to_1[0][0]']   \n",
            "                                                                                                  \n",
            " tf.math.subtract_1 (TFOpLa  (None, 2)                    0         ['tf.__operators__.add_2[0][0]\n",
            " mbda)                                                              ',                            \n",
            "                                                                     'tf.__operators__.add_1[0][0]\n",
            "                                                                    ']                            \n",
            "                                                                                                  \n",
            " tf.compat.v1.gather_8 (TFO  (17, 2)                      0         ['tf.math.subtract_2[0][0]']  \n",
            " pLambda)                                                                                         \n",
            "                                                                                                  \n",
            " tf.compat.v1.norm (TFOpLam  ()                           0         ['tf.math.subtract_1[0][0]']  \n",
            " bda)                                                                                             \n",
            "                                                                                                  \n",
            " tf.compat.v1.norm_1 (TFOpL  (2,)                         0         ['tf.compat.v1.gather_8[0][0]'\n",
            " ambda)                                                             ]                             \n",
            "                                                                                                  \n",
            " tf.math.multiply_8 (TFOpLa  ()                           0         ['tf.compat.v1.norm[0][0]']   \n",
            " mbda)                                                                                            \n",
            "                                                                                                  \n",
            " tf.math.reduce_max (TFOpLa  ()                           0         ['tf.compat.v1.norm_1[0][0]'] \n",
            " mbda)                                                                                            \n",
            "                                                                                                  \n",
            " tf.math.maximum (TFOpLambd  ()                           0         ['tf.math.multiply_8[0][0]',  \n",
            " a)                                                                  'tf.math.reduce_max[0][0]']  \n",
            "                                                                                                  \n",
            " tf.math.truediv (TFOpLambd  (None, 17, 2)                0         ['tf.math.subtract[0][0]',    \n",
            " a)                                                                  'tf.math.maximum[0][0]']     \n",
            "                                                                                                  \n",
            " flatten (Flatten)           (None, 34)                   0         ['tf.math.truediv[0][0]']     \n",
            "                                                                                                  \n",
            " dense (Dense)               (None, 128)                  4480      ['flatten[0][0]']             \n",
            "                                                                                                  \n",
            " dropout (Dropout)           (None, 128)                  0         ['dense[0][0]']               \n",
            "                                                                                                  \n",
            " dense_1 (Dense)             (None, 64)                   8256      ['dropout[0][0]']             \n",
            "                                                                                                  \n",
            " dropout_1 (Dropout)         (None, 64)                   0         ['dense_1[0][0]']             \n",
            "                                                                                                  \n",
            " dense_2 (Dense)             (None, 5)                    325       ['dropout_1[0][0]']           \n",
            "                                                                                                  \n",
            "==================================================================================================\n",
            "Total params: 13061 (51.02 KB)\n",
            "Trainable params: 13061 (51.02 KB)\n",
            "Non-trainable params: 0 (0.00 Byte)\n",
            "__________________________________________________________________________________________________\n"
          ]
        }
      ],
      "source": [
        "# Define the model\n",
        "inputs = tf.keras.Input(shape=(51))\n",
        "embedding = landmarks_to_embedding(inputs)\n",
        "\n",
        "layer = keras.layers.Dense(128, activation=tf.nn.relu6)(embedding)\n",
        "layer = keras.layers.Dropout(0.5)(layer)\n",
        "layer = keras.layers.Dense(64, activation=tf.nn.relu6)(layer)\n",
        "layer = keras.layers.Dropout(0.5)(layer)\n",
        "outputs = keras.layers.Dense(len(class_names), activation=\"softmax\")(layer)\n",
        "\n",
        "model = keras.Model(inputs, outputs)\n",
        "model.summary()"
      ]
    },
    {
      "cell_type": "code",
      "execution_count": 29,
      "metadata": {
        "id": "5ZuMwd7Ugtsa"
      },
      "outputs": [
        {
          "name": "stdout",
          "output_type": "stream",
          "text": [
            "Epoch 1/200\n",
            "85/90 [===========================>..] - ETA: 0s - loss: 1.4675 - accuracy: 0.4654\n",
            "Epoch 1: val_accuracy improved from -inf to 0.56693, saving model to weights.best.hdf5\n",
            "90/90 [==============================] - 4s 16ms/step - loss: 1.4588 - accuracy: 0.4655 - val_loss: 1.1757 - val_accuracy: 0.5669\n",
            "Epoch 2/200\n",
            "11/90 [==>...........................] - ETA: 0s - loss: 1.2286 - accuracy: 0.5341"
          ]
        },
        {
          "name": "stderr",
          "output_type": "stream",
          "text": [
            "c:\\Users\\mhasaan\\AppData\\Local\\miniconda3\\Lib\\site-packages\\keras\\src\\engine\\training.py:3000: UserWarning: You are saving your model as an HDF5 file via `model.save()`. This file format is considered legacy. We recommend using instead the native Keras format, e.g. `model.save('my_model.keras')`.\n",
            "  saving_api.save_model(\n"
          ]
        },
        {
          "name": "stdout",
          "output_type": "stream",
          "text": [
            "80/90 [=========================>....] - ETA: 0s - loss: 1.0648 - accuracy: 0.5953\n",
            "Epoch 2: val_accuracy improved from 0.56693 to 0.67323, saving model to weights.best.hdf5\n",
            "90/90 [==============================] - 1s 9ms/step - loss: 1.0579 - accuracy: 0.6001 - val_loss: 0.8458 - val_accuracy: 0.6732\n",
            "Epoch 3/200\n",
            "79/90 [=========================>....] - ETA: 0s - loss: 0.8805 - accuracy: 0.6614\n",
            "Epoch 3: val_accuracy improved from 0.67323 to 0.75591, saving model to weights.best.hdf5\n",
            "90/90 [==============================] - 0s 5ms/step - loss: 0.8792 - accuracy: 0.6588 - val_loss: 0.6971 - val_accuracy: 0.7559\n",
            "Epoch 4/200\n",
            "84/90 [===========================>..] - ETA: 0s - loss: 0.7416 - accuracy: 0.7143\n",
            "Epoch 4: val_accuracy improved from 0.75591 to 0.77165, saving model to weights.best.hdf5\n",
            "90/90 [==============================] - 1s 9ms/step - loss: 0.7432 - accuracy: 0.7153 - val_loss: 0.6039 - val_accuracy: 0.7717\n",
            "Epoch 5/200\n",
            "82/90 [==========================>...] - ETA: 0s - loss: 0.6670 - accuracy: 0.7584\n",
            "Epoch 5: val_accuracy improved from 0.77165 to 0.80315, saving model to weights.best.hdf5\n",
            "90/90 [==============================] - 1s 8ms/step - loss: 0.6604 - accuracy: 0.7572 - val_loss: 0.5559 - val_accuracy: 0.8031\n",
            "Epoch 6/200\n",
            "75/90 [========================>.....] - ETA: 0s - loss: 0.6432 - accuracy: 0.7600\n",
            "Epoch 6: val_accuracy improved from 0.80315 to 0.80709, saving model to weights.best.hdf5\n",
            "90/90 [==============================] - 0s 5ms/step - loss: 0.6372 - accuracy: 0.7627 - val_loss: 0.5160 - val_accuracy: 0.8071\n",
            "Epoch 7/200\n",
            "83/90 [==========================>...] - ETA: 0s - loss: 0.5749 - accuracy: 0.7944\n",
            "Epoch 7: val_accuracy improved from 0.80709 to 0.83858, saving model to weights.best.hdf5\n",
            "90/90 [==============================] - 0s 5ms/step - loss: 0.5793 - accuracy: 0.7934 - val_loss: 0.4839 - val_accuracy: 0.8386\n",
            "Epoch 8/200\n",
            "82/90 [==========================>...] - ETA: 0s - loss: 0.5618 - accuracy: 0.7790\n",
            "Epoch 8: val_accuracy did not improve from 0.83858\n",
            "90/90 [==============================] - 0s 5ms/step - loss: 0.5610 - accuracy: 0.7816 - val_loss: 0.4538 - val_accuracy: 0.8346\n",
            "Epoch 9/200\n",
            "88/90 [============================>.] - ETA: 0s - loss: 0.5566 - accuracy: 0.7947\n",
            "Epoch 9: val_accuracy improved from 0.83858 to 0.84252, saving model to weights.best.hdf5\n",
            "90/90 [==============================] - 1s 8ms/step - loss: 0.5532 - accuracy: 0.7969 - val_loss: 0.4534 - val_accuracy: 0.8425\n",
            "Epoch 10/200\n",
            "84/90 [===========================>..] - ETA: 0s - loss: 0.5310 - accuracy: 0.8170\n",
            "Epoch 10: val_accuracy did not improve from 0.84252\n",
            "90/90 [==============================] - 0s 4ms/step - loss: 0.5249 - accuracy: 0.8207 - val_loss: 0.4516 - val_accuracy: 0.8307\n",
            "Epoch 11/200\n",
            "81/90 [==========================>...] - ETA: 0s - loss: 0.4889 - accuracy: 0.8241\n",
            "Epoch 11: val_accuracy did not improve from 0.84252\n",
            "90/90 [==============================] - 0s 5ms/step - loss: 0.4970 - accuracy: 0.8214 - val_loss: 0.4352 - val_accuracy: 0.8189\n",
            "Epoch 12/200\n",
            "88/90 [============================>.] - ETA: 0s - loss: 0.5146 - accuracy: 0.8182\n",
            "Epoch 12: val_accuracy did not improve from 0.84252\n",
            "90/90 [==============================] - 0s 5ms/step - loss: 0.5107 - accuracy: 0.8193 - val_loss: 0.4130 - val_accuracy: 0.8425\n",
            "Epoch 13/200\n",
            "73/90 [=======================>......] - ETA: 0s - loss: 0.4742 - accuracy: 0.8399\n",
            "Epoch 13: val_accuracy did not improve from 0.84252\n",
            "90/90 [==============================] - 0s 5ms/step - loss: 0.4843 - accuracy: 0.8346 - val_loss: 0.4060 - val_accuracy: 0.8386\n",
            "Epoch 14/200\n",
            "89/90 [============================>.] - ETA: 0s - loss: 0.4720 - accuracy: 0.8329\n",
            "Epoch 14: val_accuracy improved from 0.84252 to 0.85433, saving model to weights.best.hdf5\n",
            "90/90 [==============================] - 1s 7ms/step - loss: 0.4721 - accuracy: 0.8325 - val_loss: 0.3974 - val_accuracy: 0.8543\n",
            "Epoch 15/200\n",
            "84/90 [===========================>..] - ETA: 0s - loss: 0.4791 - accuracy: 0.8259\n",
            "Epoch 15: val_accuracy did not improve from 0.85433\n",
            "90/90 [==============================] - 1s 8ms/step - loss: 0.4803 - accuracy: 0.8276 - val_loss: 0.3956 - val_accuracy: 0.8425\n",
            "Epoch 16/200\n",
            "87/90 [============================>.] - ETA: 0s - loss: 0.4670 - accuracy: 0.8197\n",
            "Epoch 16: val_accuracy did not improve from 0.85433\n",
            "90/90 [==============================] - 1s 8ms/step - loss: 0.4656 - accuracy: 0.8193 - val_loss: 0.3916 - val_accuracy: 0.8543\n",
            "Epoch 17/200\n",
            "83/90 [==========================>...] - ETA: 0s - loss: 0.4411 - accuracy: 0.8313\n",
            "Epoch 17: val_accuracy improved from 0.85433 to 0.85827, saving model to weights.best.hdf5\n",
            "90/90 [==============================] - 1s 9ms/step - loss: 0.4439 - accuracy: 0.8297 - val_loss: 0.3818 - val_accuracy: 0.8583\n",
            "Epoch 18/200\n",
            "90/90 [==============================] - ETA: 0s - loss: 0.4413 - accuracy: 0.8493\n",
            "Epoch 18: val_accuracy did not improve from 0.85827\n",
            "90/90 [==============================] - 1s 11ms/step - loss: 0.4413 - accuracy: 0.8493 - val_loss: 0.3805 - val_accuracy: 0.8543\n",
            "Epoch 19/200\n",
            "90/90 [==============================] - ETA: 0s - loss: 0.4211 - accuracy: 0.8548\n",
            "Epoch 19: val_accuracy did not improve from 0.85827\n",
            "90/90 [==============================] - 1s 7ms/step - loss: 0.4211 - accuracy: 0.8548 - val_loss: 0.3737 - val_accuracy: 0.8543\n",
            "Epoch 20/200\n",
            "83/90 [==========================>...] - ETA: 0s - loss: 0.4267 - accuracy: 0.8449\n",
            "Epoch 20: val_accuracy did not improve from 0.85827\n",
            "90/90 [==============================] - 1s 6ms/step - loss: 0.4330 - accuracy: 0.8409 - val_loss: 0.3721 - val_accuracy: 0.8425\n",
            "Epoch 21/200\n",
            "87/90 [============================>.] - ETA: 0s - loss: 0.4186 - accuracy: 0.8420\n",
            "Epoch 21: val_accuracy did not improve from 0.85827\n",
            "90/90 [==============================] - 1s 7ms/step - loss: 0.4188 - accuracy: 0.8423 - val_loss: 0.3841 - val_accuracy: 0.8583\n",
            "Epoch 22/200\n",
            "85/90 [===========================>..] - ETA: 0s - loss: 0.3869 - accuracy: 0.8596\n",
            "Epoch 22: val_accuracy did not improve from 0.85827\n",
            "90/90 [==============================] - 1s 9ms/step - loss: 0.3977 - accuracy: 0.8569 - val_loss: 0.3649 - val_accuracy: 0.8504\n",
            "Epoch 23/200\n",
            "84/90 [===========================>..] - ETA: 0s - loss: 0.4086 - accuracy: 0.8475\n",
            "Epoch 23: val_accuracy improved from 0.85827 to 0.86614, saving model to weights.best.hdf5\n",
            "90/90 [==============================] - 1s 8ms/step - loss: 0.3966 - accuracy: 0.8528 - val_loss: 0.3590 - val_accuracy: 0.8661\n",
            "Epoch 24/200\n",
            "86/90 [===========================>..] - ETA: 0s - loss: 0.4048 - accuracy: 0.8452\n",
            "Epoch 24: val_accuracy did not improve from 0.86614\n",
            "90/90 [==============================] - 1s 6ms/step - loss: 0.4113 - accuracy: 0.8423 - val_loss: 0.3491 - val_accuracy: 0.8583\n",
            "Epoch 25/200\n",
            "84/90 [===========================>..] - ETA: 0s - loss: 0.3948 - accuracy: 0.8564\n",
            "Epoch 25: val_accuracy did not improve from 0.86614\n",
            "90/90 [==============================] - 1s 6ms/step - loss: 0.3876 - accuracy: 0.8583 - val_loss: 0.3483 - val_accuracy: 0.8465\n",
            "Epoch 26/200\n",
            "86/90 [===========================>..] - ETA: 0s - loss: 0.4012 - accuracy: 0.8670\n",
            "Epoch 26: val_accuracy did not improve from 0.86614\n",
            "90/90 [==============================] - 1s 8ms/step - loss: 0.4016 - accuracy: 0.8667 - val_loss: 0.3529 - val_accuracy: 0.8543\n",
            "Epoch 27/200\n",
            "82/90 [==========================>...] - ETA: 0s - loss: 0.4038 - accuracy: 0.8613\n",
            "Epoch 27: val_accuracy did not improve from 0.86614\n",
            "90/90 [==============================] - 1s 7ms/step - loss: 0.3996 - accuracy: 0.8639 - val_loss: 0.3607 - val_accuracy: 0.8583\n",
            "Epoch 28/200\n",
            "88/90 [============================>.] - ETA: 0s - loss: 0.3742 - accuracy: 0.8643\n",
            "Epoch 28: val_accuracy improved from 0.86614 to 0.87008, saving model to weights.best.hdf5\n",
            "90/90 [==============================] - 1s 8ms/step - loss: 0.3749 - accuracy: 0.8639 - val_loss: 0.3348 - val_accuracy: 0.8701\n",
            "Epoch 29/200\n",
            "84/90 [===========================>..] - ETA: 0s - loss: 0.3768 - accuracy: 0.8653\n",
            "Epoch 29: val_accuracy did not improve from 0.87008\n",
            "90/90 [==============================] - 1s 6ms/step - loss: 0.3794 - accuracy: 0.8625 - val_loss: 0.3345 - val_accuracy: 0.8701\n",
            "Epoch 30/200\n",
            "88/90 [============================>.] - ETA: 0s - loss: 0.3848 - accuracy: 0.8672\n",
            "Epoch 30: val_accuracy did not improve from 0.87008\n",
            "90/90 [==============================] - 1s 6ms/step - loss: 0.3824 - accuracy: 0.8681 - val_loss: 0.3338 - val_accuracy: 0.8622\n",
            "Epoch 31/200\n",
            "82/90 [==========================>...] - ETA: 0s - loss: 0.3846 - accuracy: 0.8727\n",
            "Epoch 31: val_accuracy improved from 0.87008 to 0.88189, saving model to weights.best.hdf5\n",
            "90/90 [==============================] - 1s 9ms/step - loss: 0.3755 - accuracy: 0.8744 - val_loss: 0.3156 - val_accuracy: 0.8819\n",
            "Epoch 32/200\n",
            "89/90 [============================>.] - ETA: 0s - loss: 0.3657 - accuracy: 0.8694\n",
            "Epoch 32: val_accuracy did not improve from 0.88189\n",
            "90/90 [==============================] - 1s 8ms/step - loss: 0.3672 - accuracy: 0.8695 - val_loss: 0.3332 - val_accuracy: 0.8622\n",
            "Epoch 33/200\n",
            "85/90 [===========================>..] - ETA: 0s - loss: 0.3609 - accuracy: 0.8669\n",
            "Epoch 33: val_accuracy improved from 0.88189 to 0.88583, saving model to weights.best.hdf5\n",
            "90/90 [==============================] - 1s 10ms/step - loss: 0.3593 - accuracy: 0.8688 - val_loss: 0.3195 - val_accuracy: 0.8858\n",
            "Epoch 34/200\n",
            "81/90 [==========================>...] - ETA: 0s - loss: 0.3478 - accuracy: 0.8796\n",
            "Epoch 34: val_accuracy did not improve from 0.88583\n",
            "90/90 [==============================] - 1s 8ms/step - loss: 0.3494 - accuracy: 0.8793 - val_loss: 0.3141 - val_accuracy: 0.8819\n",
            "Epoch 35/200\n",
            "89/90 [============================>.] - ETA: 0s - loss: 0.3735 - accuracy: 0.8736\n",
            "Epoch 35: val_accuracy did not improve from 0.88583\n",
            "90/90 [==============================] - 1s 6ms/step - loss: 0.3719 - accuracy: 0.8744 - val_loss: 0.3122 - val_accuracy: 0.8780\n",
            "Epoch 36/200\n",
            "88/90 [============================>.] - ETA: 0s - loss: 0.3344 - accuracy: 0.8849\n",
            "Epoch 36: val_accuracy did not improve from 0.88583\n",
            "90/90 [==============================] - 1s 6ms/step - loss: 0.3354 - accuracy: 0.8842 - val_loss: 0.3030 - val_accuracy: 0.8858\n",
            "Epoch 37/200\n",
            "84/90 [===========================>..] - ETA: 0s - loss: 0.3532 - accuracy: 0.8757\n",
            "Epoch 37: val_accuracy did not improve from 0.88583\n",
            "90/90 [==============================] - 1s 7ms/step - loss: 0.3446 - accuracy: 0.8786 - val_loss: 0.3178 - val_accuracy: 0.8819\n",
            "Epoch 38/200\n",
            "90/90 [==============================] - ETA: 0s - loss: 0.3464 - accuracy: 0.8723\n",
            "Epoch 38: val_accuracy did not improve from 0.88583\n",
            "90/90 [==============================] - 1s 8ms/step - loss: 0.3464 - accuracy: 0.8723 - val_loss: 0.3028 - val_accuracy: 0.8858\n",
            "Epoch 39/200\n",
            "90/90 [==============================] - ETA: 0s - loss: 0.3483 - accuracy: 0.8744\n",
            "Epoch 39: val_accuracy improved from 0.88583 to 0.88976, saving model to weights.best.hdf5\n",
            "90/90 [==============================] - 1s 10ms/step - loss: 0.3483 - accuracy: 0.8744 - val_loss: 0.2976 - val_accuracy: 0.8898\n",
            "Epoch 40/200\n",
            "88/90 [============================>.] - ETA: 0s - loss: 0.3216 - accuracy: 0.8828\n",
            "Epoch 40: val_accuracy did not improve from 0.88976\n",
            "90/90 [==============================] - 1s 7ms/step - loss: 0.3190 - accuracy: 0.8842 - val_loss: 0.2953 - val_accuracy: 0.8819\n",
            "Epoch 41/200\n",
            "87/90 [============================>.] - ETA: 0s - loss: 0.3506 - accuracy: 0.8815\n",
            "Epoch 41: val_accuracy did not improve from 0.88976\n",
            "90/90 [==============================] - 1s 6ms/step - loss: 0.3519 - accuracy: 0.8814 - val_loss: 0.3000 - val_accuracy: 0.8740\n",
            "Epoch 42/200\n",
            "85/90 [===========================>..] - ETA: 0s - loss: 0.3401 - accuracy: 0.8794\n",
            "Epoch 42: val_accuracy did not improve from 0.88976\n",
            "90/90 [==============================] - 1s 7ms/step - loss: 0.3419 - accuracy: 0.8800 - val_loss: 0.3152 - val_accuracy: 0.8661\n",
            "Epoch 43/200\n",
            "87/90 [============================>.] - ETA: 0s - loss: 0.3409 - accuracy: 0.8779\n",
            "Epoch 43: val_accuracy did not improve from 0.88976\n",
            "90/90 [==============================] - 1s 6ms/step - loss: 0.3366 - accuracy: 0.8793 - val_loss: 0.3036 - val_accuracy: 0.8819\n",
            "Epoch 44/200\n",
            "85/90 [===========================>..] - ETA: 0s - loss: 0.3361 - accuracy: 0.8824\n",
            "Epoch 44: val_accuracy did not improve from 0.88976\n",
            "90/90 [==============================] - 1s 8ms/step - loss: 0.3335 - accuracy: 0.8821 - val_loss: 0.2954 - val_accuracy: 0.8858\n",
            "Epoch 45/200\n",
            "89/90 [============================>.] - ETA: 0s - loss: 0.3098 - accuracy: 0.8897\n",
            "Epoch 45: val_accuracy did not improve from 0.88976\n",
            "90/90 [==============================] - 1s 8ms/step - loss: 0.3135 - accuracy: 0.8883 - val_loss: 0.2995 - val_accuracy: 0.8898\n",
            "Epoch 46/200\n",
            "85/90 [===========================>..] - ETA: 0s - loss: 0.3132 - accuracy: 0.8949\n",
            "Epoch 46: val_accuracy improved from 0.88976 to 0.89370, saving model to weights.best.hdf5\n",
            "90/90 [==============================] - 1s 9ms/step - loss: 0.3157 - accuracy: 0.8939 - val_loss: 0.3057 - val_accuracy: 0.8937\n",
            "Epoch 47/200\n",
            "83/90 [==========================>...] - ETA: 0s - loss: 0.3099 - accuracy: 0.8946\n",
            "Epoch 47: val_accuracy did not improve from 0.89370\n",
            "90/90 [==============================] - 1s 7ms/step - loss: 0.3131 - accuracy: 0.8932 - val_loss: 0.2961 - val_accuracy: 0.8858\n",
            "Epoch 48/200\n",
            "81/90 [==========================>...] - ETA: 0s - loss: 0.3445 - accuracy: 0.8850\n",
            "Epoch 48: val_accuracy did not improve from 0.89370\n",
            "90/90 [==============================] - 1s 8ms/step - loss: 0.3396 - accuracy: 0.8856 - val_loss: 0.2981 - val_accuracy: 0.8819\n",
            "Epoch 49/200\n",
            "89/90 [============================>.] - ETA: 0s - loss: 0.3099 - accuracy: 0.8897\n",
            "Epoch 49: val_accuracy did not improve from 0.89370\n",
            "90/90 [==============================] - 1s 8ms/step - loss: 0.3112 - accuracy: 0.8890 - val_loss: 0.3028 - val_accuracy: 0.8740\n",
            "Epoch 50/200\n",
            "87/90 [============================>.] - ETA: 0s - loss: 0.3181 - accuracy: 0.9016\n",
            "Epoch 50: val_accuracy did not improve from 0.89370\n",
            "90/90 [==============================] - 1s 8ms/step - loss: 0.3243 - accuracy: 0.9002 - val_loss: 0.2986 - val_accuracy: 0.8819\n",
            "Epoch 51/200\n",
            "81/90 [==========================>...] - ETA: 0s - loss: 0.3022 - accuracy: 0.8897\n",
            "Epoch 51: val_accuracy did not improve from 0.89370\n",
            "90/90 [==============================] - 1s 7ms/step - loss: 0.3063 - accuracy: 0.8883 - val_loss: 0.2888 - val_accuracy: 0.8898\n",
            "Epoch 52/200\n",
            "86/90 [===========================>..] - ETA: 0s - loss: 0.2935 - accuracy: 0.8932\n",
            "Epoch 52: val_accuracy did not improve from 0.89370\n",
            "90/90 [==============================] - 1s 8ms/step - loss: 0.2921 - accuracy: 0.8946 - val_loss: 0.2889 - val_accuracy: 0.8819\n",
            "Epoch 53/200\n",
            "86/90 [===========================>..] - ETA: 0s - loss: 0.2959 - accuracy: 0.8946\n",
            "Epoch 53: val_accuracy improved from 0.89370 to 0.89764, saving model to weights.best.hdf5\n",
            "90/90 [==============================] - 1s 10ms/step - loss: 0.2973 - accuracy: 0.8939 - val_loss: 0.2865 - val_accuracy: 0.8976\n",
            "Epoch 54/200\n",
            "81/90 [==========================>...] - ETA: 0s - loss: 0.3137 - accuracy: 0.8927\n",
            "Epoch 54: val_accuracy did not improve from 0.89764\n",
            "90/90 [==============================] - 1s 6ms/step - loss: 0.3158 - accuracy: 0.8897 - val_loss: 0.2881 - val_accuracy: 0.8976\n",
            "Epoch 55/200\n",
            "85/90 [===========================>..] - ETA: 0s - loss: 0.2872 - accuracy: 0.8978\n",
            "Epoch 55: val_accuracy did not improve from 0.89764\n",
            "90/90 [==============================] - 1s 7ms/step - loss: 0.2927 - accuracy: 0.8974 - val_loss: 0.2812 - val_accuracy: 0.8858\n",
            "Epoch 56/200\n",
            "86/90 [===========================>..] - ETA: 0s - loss: 0.2977 - accuracy: 0.8961\n",
            "Epoch 56: val_accuracy improved from 0.89764 to 0.90157, saving model to weights.best.hdf5\n",
            "90/90 [==============================] - 1s 8ms/step - loss: 0.2967 - accuracy: 0.8960 - val_loss: 0.2798 - val_accuracy: 0.9016\n",
            "Epoch 57/200\n",
            "89/90 [============================>.] - ETA: 0s - loss: 0.2855 - accuracy: 0.9031\n",
            "Epoch 57: val_accuracy did not improve from 0.90157\n",
            "90/90 [==============================] - 1s 7ms/step - loss: 0.2843 - accuracy: 0.9037 - val_loss: 0.2726 - val_accuracy: 0.9016\n",
            "Epoch 58/200\n",
            "80/90 [=========================>....] - ETA: 0s - loss: 0.2967 - accuracy: 0.9008\n",
            "Epoch 58: val_accuracy did not improve from 0.90157\n",
            "90/90 [==============================] - 1s 7ms/step - loss: 0.3068 - accuracy: 0.8988 - val_loss: 0.2789 - val_accuracy: 0.8937\n",
            "Epoch 59/200\n",
            "84/90 [===========================>..] - ETA: 0s - loss: 0.2850 - accuracy: 0.8943\n",
            "Epoch 59: val_accuracy did not improve from 0.90157\n",
            "90/90 [==============================] - 1s 10ms/step - loss: 0.2847 - accuracy: 0.8953 - val_loss: 0.2843 - val_accuracy: 0.8937\n",
            "Epoch 60/200\n",
            "89/90 [============================>.] - ETA: 0s - loss: 0.2859 - accuracy: 0.8989\n",
            "Epoch 60: val_accuracy did not improve from 0.90157\n",
            "90/90 [==============================] - 1s 11ms/step - loss: 0.2855 - accuracy: 0.8995 - val_loss: 0.2825 - val_accuracy: 0.8937\n",
            "Epoch 61/200\n",
            "88/90 [============================>.] - ETA: 0s - loss: 0.2882 - accuracy: 0.9105\n",
            "Epoch 61: val_accuracy did not improve from 0.90157\n",
            "90/90 [==============================] - 1s 10ms/step - loss: 0.2894 - accuracy: 0.9093 - val_loss: 0.2740 - val_accuracy: 0.8976\n",
            "Epoch 62/200\n",
            "88/90 [============================>.] - ETA: 0s - loss: 0.2788 - accuracy: 0.9013\n",
            "Epoch 62: val_accuracy did not improve from 0.90157\n",
            "90/90 [==============================] - 1s 8ms/step - loss: 0.2772 - accuracy: 0.9030 - val_loss: 0.2747 - val_accuracy: 0.8898\n",
            "Epoch 63/200\n",
            "84/90 [===========================>..] - ETA: 0s - loss: 0.2840 - accuracy: 0.8884\n",
            "Epoch 63: val_accuracy did not improve from 0.90157\n",
            "90/90 [==============================] - 1s 6ms/step - loss: 0.2918 - accuracy: 0.8870 - val_loss: 0.2887 - val_accuracy: 0.9016\n",
            "Epoch 64/200\n",
            "89/90 [============================>.] - ETA: 0s - loss: 0.3021 - accuracy: 0.8989\n",
            "Epoch 64: val_accuracy did not improve from 0.90157\n",
            "90/90 [==============================] - 1s 7ms/step - loss: 0.3009 - accuracy: 0.8995 - val_loss: 0.2836 - val_accuracy: 0.8976\n",
            "Epoch 65/200\n",
            "85/90 [===========================>..] - ETA: 0s - loss: 0.2815 - accuracy: 0.9066\n",
            "Epoch 65: val_accuracy improved from 0.90157 to 0.90945, saving model to weights.best.hdf5\n",
            "90/90 [==============================] - 1s 8ms/step - loss: 0.2769 - accuracy: 0.9093 - val_loss: 0.2720 - val_accuracy: 0.9094\n",
            "Epoch 66/200\n",
            "86/90 [===========================>..] - ETA: 0s - loss: 0.2716 - accuracy: 0.9026\n",
            "Epoch 66: val_accuracy did not improve from 0.90945\n",
            "90/90 [==============================] - 1s 8ms/step - loss: 0.2700 - accuracy: 0.9037 - val_loss: 0.2685 - val_accuracy: 0.9016\n",
            "Epoch 67/200\n",
            "83/90 [==========================>...] - ETA: 0s - loss: 0.2857 - accuracy: 0.8946\n",
            "Epoch 67: val_accuracy did not improve from 0.90945\n",
            "90/90 [==============================] - 1s 8ms/step - loss: 0.2856 - accuracy: 0.8946 - val_loss: 0.2773 - val_accuracy: 0.8937\n",
            "Epoch 68/200\n",
            "90/90 [==============================] - ETA: 0s - loss: 0.2843 - accuracy: 0.8897\n",
            "Epoch 68: val_accuracy did not improve from 0.90945\n",
            "90/90 [==============================] - 1s 8ms/step - loss: 0.2843 - accuracy: 0.8897 - val_loss: 0.2929 - val_accuracy: 0.8937\n",
            "Epoch 69/200\n",
            "88/90 [============================>.] - ETA: 0s - loss: 0.2889 - accuracy: 0.9006\n",
            "Epoch 69: val_accuracy did not improve from 0.90945\n",
            "90/90 [==============================] - 1s 6ms/step - loss: 0.2927 - accuracy: 0.8988 - val_loss: 0.2833 - val_accuracy: 0.8898\n",
            "Epoch 70/200\n",
            "86/90 [===========================>..] - ETA: 0s - loss: 0.2587 - accuracy: 0.9164\n",
            "Epoch 70: val_accuracy did not improve from 0.90945\n",
            "90/90 [==============================] - 1s 7ms/step - loss: 0.2676 - accuracy: 0.9128 - val_loss: 0.2749 - val_accuracy: 0.9016\n",
            "Epoch 71/200\n",
            "89/90 [============================>.] - ETA: 0s - loss: 0.2681 - accuracy: 0.9038\n",
            "Epoch 71: val_accuracy did not improve from 0.90945\n",
            "90/90 [==============================] - 1s 7ms/step - loss: 0.2670 - accuracy: 0.9044 - val_loss: 0.2756 - val_accuracy: 0.9055\n",
            "Epoch 72/200\n",
            "85/90 [===========================>..] - ETA: 0s - loss: 0.2717 - accuracy: 0.8956\n",
            "Epoch 72: val_accuracy did not improve from 0.90945\n",
            "90/90 [==============================] - 1s 11ms/step - loss: 0.2680 - accuracy: 0.8974 - val_loss: 0.2645 - val_accuracy: 0.9016\n",
            "Epoch 73/200\n",
            "90/90 [==============================] - ETA: 0s - loss: 0.2795 - accuracy: 0.9058\n",
            "Epoch 73: val_accuracy did not improve from 0.90945\n",
            "90/90 [==============================] - 1s 7ms/step - loss: 0.2795 - accuracy: 0.9058 - val_loss: 0.2762 - val_accuracy: 0.8976\n",
            "Epoch 74/200\n",
            "89/90 [============================>.] - ETA: 0s - loss: 0.2593 - accuracy: 0.9003\n",
            "Epoch 74: val_accuracy did not improve from 0.90945\n",
            "90/90 [==============================] - 1s 8ms/step - loss: 0.2609 - accuracy: 0.9002 - val_loss: 0.2667 - val_accuracy: 0.9055\n",
            "Epoch 75/200\n",
            "86/90 [===========================>..] - ETA: 0s - loss: 0.2664 - accuracy: 0.9084\n",
            "Epoch 75: val_accuracy did not improve from 0.90945\n",
            "90/90 [==============================] - 1s 6ms/step - loss: 0.2643 - accuracy: 0.9079 - val_loss: 0.2602 - val_accuracy: 0.9055\n",
            "Epoch 76/200\n",
            "87/90 [============================>.] - ETA: 0s - loss: 0.2697 - accuracy: 0.9088\n",
            "Epoch 76: val_accuracy did not improve from 0.90945\n",
            "90/90 [==============================] - 1s 9ms/step - loss: 0.2790 - accuracy: 0.9051 - val_loss: 0.2630 - val_accuracy: 0.9055\n",
            "Epoch 77/200\n",
            "90/90 [==============================] - ETA: 0s - loss: 0.2611 - accuracy: 0.9128\n",
            "Epoch 77: val_accuracy improved from 0.90945 to 0.91339, saving model to weights.best.hdf5\n",
            "90/90 [==============================] - 1s 11ms/step - loss: 0.2611 - accuracy: 0.9128 - val_loss: 0.2718 - val_accuracy: 0.9134\n",
            "Epoch 78/200\n",
            "88/90 [============================>.] - ETA: 0s - loss: 0.2676 - accuracy: 0.8984\n",
            "Epoch 78: val_accuracy did not improve from 0.91339\n",
            "90/90 [==============================] - 1s 8ms/step - loss: 0.2645 - accuracy: 0.8995 - val_loss: 0.2496 - val_accuracy: 0.9055\n",
            "Epoch 79/200\n",
            "81/90 [==========================>...] - ETA: 0s - loss: 0.2536 - accuracy: 0.9113\n",
            "Epoch 79: val_accuracy did not improve from 0.91339\n",
            "90/90 [==============================] - 1s 8ms/step - loss: 0.2547 - accuracy: 0.9086 - val_loss: 0.2622 - val_accuracy: 0.9134\n",
            "Epoch 80/200\n",
            "82/90 [==========================>...] - ETA: 0s - loss: 0.2512 - accuracy: 0.9116\n",
            "Epoch 80: val_accuracy did not improve from 0.91339\n",
            "90/90 [==============================] - 1s 7ms/step - loss: 0.2454 - accuracy: 0.9135 - val_loss: 0.2499 - val_accuracy: 0.9134\n",
            "Epoch 81/200\n",
            "84/90 [===========================>..] - ETA: 0s - loss: 0.2744 - accuracy: 0.9048\n",
            "Epoch 81: val_accuracy did not improve from 0.91339\n",
            "90/90 [==============================] - 1s 7ms/step - loss: 0.2726 - accuracy: 0.9037 - val_loss: 0.2527 - val_accuracy: 0.9094\n",
            "Epoch 82/200\n",
            "83/90 [==========================>...] - ETA: 0s - loss: 0.2532 - accuracy: 0.9142\n",
            "Epoch 82: val_accuracy did not improve from 0.91339\n",
            "90/90 [==============================] - 1s 7ms/step - loss: 0.2517 - accuracy: 0.9170 - val_loss: 0.2574 - val_accuracy: 0.9055\n",
            "Epoch 83/200\n",
            "89/90 [============================>.] - ETA: 0s - loss: 0.2501 - accuracy: 0.9122\n",
            "Epoch 83: val_accuracy did not improve from 0.91339\n",
            "90/90 [==============================] - 1s 7ms/step - loss: 0.2489 - accuracy: 0.9128 - val_loss: 0.2579 - val_accuracy: 0.9055\n",
            "Epoch 84/200\n",
            "89/90 [============================>.] - ETA: 0s - loss: 0.2586 - accuracy: 0.9164\n",
            "Epoch 84: val_accuracy did not improve from 0.91339\n",
            "90/90 [==============================] - 1s 10ms/step - loss: 0.2591 - accuracy: 0.9163 - val_loss: 0.2452 - val_accuracy: 0.9016\n",
            "Epoch 85/200\n",
            "86/90 [===========================>..] - ETA: 0s - loss: 0.2463 - accuracy: 0.9142\n",
            "Epoch 85: val_accuracy did not improve from 0.91339\n",
            "90/90 [==============================] - 1s 10ms/step - loss: 0.2474 - accuracy: 0.9121 - val_loss: 0.2642 - val_accuracy: 0.9055\n",
            "Epoch 86/200\n",
            "85/90 [===========================>..] - ETA: 0s - loss: 0.2431 - accuracy: 0.9169\n",
            "Epoch 86: val_accuracy did not improve from 0.91339\n",
            "90/90 [==============================] - 1s 9ms/step - loss: 0.2410 - accuracy: 0.9184 - val_loss: 0.2703 - val_accuracy: 0.8858\n",
            "Epoch 87/200\n",
            "87/90 [============================>.] - ETA: 0s - loss: 0.2482 - accuracy: 0.9073\n",
            "Epoch 87: val_accuracy did not improve from 0.91339\n",
            "90/90 [==============================] - 1s 9ms/step - loss: 0.2445 - accuracy: 0.9086 - val_loss: 0.2538 - val_accuracy: 0.9055\n",
            "Epoch 88/200\n",
            "89/90 [============================>.] - ETA: 0s - loss: 0.2681 - accuracy: 0.9045\n",
            "Epoch 88: val_accuracy did not improve from 0.91339\n",
            "90/90 [==============================] - 1s 11ms/step - loss: 0.2671 - accuracy: 0.9044 - val_loss: 0.2420 - val_accuracy: 0.9134\n",
            "Epoch 89/200\n",
            "86/90 [===========================>..] - ETA: 0s - loss: 0.2405 - accuracy: 0.9208\n",
            "Epoch 89: val_accuracy did not improve from 0.91339\n",
            "90/90 [==============================] - 1s 10ms/step - loss: 0.2408 - accuracy: 0.9211 - val_loss: 0.2592 - val_accuracy: 0.9016\n",
            "Epoch 90/200\n",
            "88/90 [============================>.] - ETA: 0s - loss: 0.2521 - accuracy: 0.9162\n",
            "Epoch 90: val_accuracy did not improve from 0.91339\n",
            "90/90 [==============================] - 1s 9ms/step - loss: 0.2497 - accuracy: 0.9170 - val_loss: 0.2699 - val_accuracy: 0.9055\n",
            "Epoch 91/200\n",
            "84/90 [===========================>..] - ETA: 0s - loss: 0.2600 - accuracy: 0.9129\n",
            "Epoch 91: val_accuracy did not improve from 0.91339\n",
            "90/90 [==============================] - 1s 9ms/step - loss: 0.2604 - accuracy: 0.9121 - val_loss: 0.2387 - val_accuracy: 0.9134\n",
            "Epoch 92/200\n",
            "88/90 [============================>.] - ETA: 0s - loss: 0.2329 - accuracy: 0.9197\n",
            "Epoch 92: val_accuracy did not improve from 0.91339\n",
            "90/90 [==============================] - 1s 7ms/step - loss: 0.2342 - accuracy: 0.9177 - val_loss: 0.2288 - val_accuracy: 0.9134\n",
            "Epoch 93/200\n",
            "85/90 [===========================>..] - ETA: 0s - loss: 0.2505 - accuracy: 0.9125\n",
            "Epoch 93: val_accuracy did not improve from 0.91339\n",
            "90/90 [==============================] - 1s 8ms/step - loss: 0.2491 - accuracy: 0.9114 - val_loss: 0.2323 - val_accuracy: 0.9016\n",
            "Epoch 94/200\n",
            "86/90 [===========================>..] - ETA: 0s - loss: 0.2434 - accuracy: 0.9142\n",
            "Epoch 94: val_accuracy did not improve from 0.91339\n",
            "90/90 [==============================] - 1s 9ms/step - loss: 0.2376 - accuracy: 0.9163 - val_loss: 0.2325 - val_accuracy: 0.9134\n",
            "Epoch 95/200\n",
            "90/90 [==============================] - ETA: 0s - loss: 0.2546 - accuracy: 0.9072\n",
            "Epoch 95: val_accuracy did not improve from 0.91339\n",
            "90/90 [==============================] - 1s 9ms/step - loss: 0.2546 - accuracy: 0.9072 - val_loss: 0.2365 - val_accuracy: 0.9134\n",
            "Epoch 96/200\n",
            "86/90 [===========================>..] - ETA: 0s - loss: 0.2500 - accuracy: 0.9135\n",
            "Epoch 96: val_accuracy did not improve from 0.91339\n",
            "90/90 [==============================] - 1s 9ms/step - loss: 0.2475 - accuracy: 0.9149 - val_loss: 0.2451 - val_accuracy: 0.9134\n",
            "Epoch 97/200\n",
            "83/90 [==========================>...] - ETA: 0s - loss: 0.2400 - accuracy: 0.9036\n",
            "Epoch 97: val_accuracy did not improve from 0.91339\n",
            "90/90 [==============================] - 1s 9ms/step - loss: 0.2456 - accuracy: 0.9030 - val_loss: 0.2494 - val_accuracy: 0.9134\n"
          ]
        }
      ],
      "source": [
        "model.compile(\n",
        "    optimizer='adam',\n",
        "    loss='categorical_crossentropy',\n",
        "    metrics=['accuracy']\n",
        ")\n",
        "\n",
        "# Add a checkpoint callback to store the checkpoint that has the highest\n",
        "# validation accuracy.\n",
        "checkpoint_path = \"weights.best.hdf5\"\n",
        "checkpoint = keras.callbacks.ModelCheckpoint(checkpoint_path,\n",
        "                             monitor='val_accuracy',\n",
        "                             verbose=1,\n",
        "                             save_best_only=True,\n",
        "                             mode='max')\n",
        "earlystopping = keras.callbacks.EarlyStopping(monitor='val_accuracy', \n",
        "                                              patience=20)\n",
        "\n",
        "# Start training\n",
        "history = model.fit(X_train, y_train,\n",
        "                    epochs=200,\n",
        "                    batch_size=16,\n",
        "                    validation_data=(X_val, y_val),\n",
        "                    callbacks=[checkpoint, earlystopping])"
      ]
    },
    {
      "cell_type": "code",
      "execution_count": 30,
      "metadata": {
        "id": "pNVqmd2JO6Rp"
      },
      "outputs": [
        {
          "data": {
            "image/png": "[encoded data removed]",
            "text/plain": [
              "<Figure size 640x480 with 1 Axes>"
            ]
          },
          "metadata": {},
          "output_type": "display_data"
        }
      ],
      "source": [
        "# Visualize the training history to see whether you're overfitting.\n",
        "plt.plot(history.history['accuracy'])\n",
        "plt.plot(history.history['val_accuracy'])\n",
        "plt.title('Model accuracy')\n",
        "plt.ylabel('accuracy')\n",
        "plt.xlabel('epoch')\n",
        "plt.legend(['TRAIN', 'VAL'], loc='lower right')\n",
        "plt.show()"
      ]
    },
    {
      "cell_type": "code",
      "execution_count": 31,
      "metadata": {
        "id": "m_byMBVQgyQm"
      },
      "outputs": [
        {
          "name": "stdout",
          "output_type": "stream",
          "text": [
            "14/14 [==============================] - 0s 3ms/step - loss: 0.4390 - accuracy: 0.8571\n"
          ]
        }
      ],
      "source": [
        "# Evaluate the model using the TEST dataset\n",
        "loss, accuracy = model.evaluate(X_test, y_test)"
      ]
    },
    {
      "cell_type": "markdown",
      "metadata": {
        "id": "JPnPmwjn9452"
      },
      "source": [
        "### Draw the confusion matrix to better understand the model performance"
      ]
    },
    {
      "cell_type": "code",
      "execution_count": 32,
      "metadata": {
        "id": "CJuVw7gygyyd"
      },
      "outputs": [
        {
          "name": "stdout",
          "output_type": "stream",
          "text": [
            "14/14 [==============================] - 0s 3ms/step\n",
            "Confusion matrix, without normalization\n",
            "\n",
            "Classification Report:\n",
            "               precision    recall  f1-score   support\n",
            "\n",
            "         lie       0.88      0.96      0.92       115\n",
            "  lie_to_sit       0.74      0.66      0.70        65\n",
            "         sit       0.81      0.81      0.81        64\n",
            "sit_to_stand       0.85      0.74      0.79        61\n",
            "       stand       0.91      0.94      0.92       136\n",
            "\n",
            "    accuracy                           0.86       441\n",
            "   macro avg       0.84      0.82      0.83       441\n",
            "weighted avg       0.85      0.86      0.85       441\n",
            "\n"
          ]
        },
        {
          "data": {
            "image/png": "[encoded data removed]",
            "text/plain": [
              "<Figure size 640x480 with 2 Axes>"
            ]
          },
          "metadata": {},
          "output_type": "display_data"
        }
      ],
      "source": [
        "def plot_confusion_matrix(cm, classes,\n",
        "                          normalize=False,\n",
        "                          title='Confusion matrix',\n",
        "                          cmap=plt.cm.Blues):\n",
        "  \"\"\"Plots the confusion matrix.\"\"\"\n",
        "  if normalize:\n",
        "    cm = cm.astype('float') / cm.sum(axis=1)[:, np.newaxis]\n",
        "    print(\"Normalized confusion matrix\")\n",
        "  else:\n",
        "    print('Confusion matrix, without normalization')\n",
        "\n",
        "  plt.imshow(cm, interpolation='nearest', cmap=cmap)\n",
        "  plt.title(title)\n",
        "  plt.colorbar()\n",
        "  tick_marks = np.arange(len(classes))\n",
        "  plt.xticks(tick_marks, classes, rotation=55)\n",
        "  plt.yticks(tick_marks, classes)\n",
        "  fmt = '.2f' if normalize else 'd'\n",
        "  thresh = cm.max() / 2.\n",
        "  for i, j in itertools.product(range(cm.shape[0]), range(cm.shape[1])):\n",
        "    plt.text(j, i, format(cm[i, j], fmt),\n",
        "              horizontalalignment=\"center\",\n",
        "              color=\"white\" if cm[i, j] > thresh else \"black\")\n",
        "\n",
        "  plt.ylabel('True label')\n",
        "  plt.xlabel('Predicted label')\n",
        "  plt.tight_layout()\n",
        "\n",
        "# Classify pose in the TEST dataset using the trained model\n",
        "y_pred = model.predict(X_test)\n",
        "\n",
        "# Convert the prediction result to class name\n",
        "y_pred_label = [class_names[i] for i in np.argmax(y_pred, axis=1)]\n",
        "y_true_label = [class_names[i] for i in np.argmax(y_test, axis=1)]\n",
        "\n",
        "# Plot the confusion matrix\n",
        "cm = confusion_matrix(np.argmax(y_test, axis=1), np.argmax(y_pred, axis=1))\n",
        "plot_confusion_matrix(cm,\n",
        "                      class_names,\n",
        "                      title ='Confusion Matrix of Pose Classification Model')\n",
        "\n",
        "# Print the classification report\n",
        "print('\\nClassification Report:\\n', classification_report(y_true_label,\n",
        "                                                          y_pred_label))"
      ]
    },
    {
      "cell_type": "markdown",
      "metadata": {
        "id": "YPmtRf79GkCa"
      },
      "source": [
        "### (Optional) Investigate incorrect predictions\n",
        "\n",
        "You can look at the poses from the `TEST` dataset that were incorrectly predicted to see whether the model accuracy can be improved.\n",
        "\n",
        "Note: This only works if you have run step 1 because you need the pose image files on your local machine to display them."
      ]
    },
    {
      "cell_type": "code",
      "execution_count": 36,
      "metadata": {
        "id": "bdJdwOkFGonK"
      },
      "outputs": [
        {
          "ename": "error",
          "evalue": "OpenCV(4.8.0) D:\\a\\opencv-python\\opencv-python\\opencv\\modules\\imgproc\\src\\color.cpp:182: error: (-215:Assertion failed) !_src.empty() in function 'cv::cvtColor'\n",
          "output_type": "error",
          "traceback": [
            "\u001b[1;31m---------------------------------------------------------------------------\u001b[0m",
            "\u001b[1;31merror\u001b[0m                                     Traceback (most recent call last)",
            "\u001b[1;32md:\\Trigger-detection-skeletal\\pose_classification.ipynb Cell 45\u001b[0m line \u001b[0;36m2\n\u001b[0;32m     <a href='vscode-notebook-cell:/d%3A/Trigger-detection-skeletal/pose_classification.ipynb#X62sZmlsZQ%3D%3D?line=21'>22</a>\u001b[0m   image \u001b[39m=\u001b[39m cv2\u001b[39m.\u001b[39mimread(image_path)\n\u001b[0;32m     <a href='vscode-notebook-cell:/d%3A/Trigger-detection-skeletal/pose_classification.ipynb#X62sZmlsZQ%3D%3D?line=22'>23</a>\u001b[0m   plt\u001b[39m.\u001b[39mtitle(\u001b[39m\"\u001b[39m\u001b[39mPredict: \u001b[39m\u001b[39m%s\u001b[39;00m\u001b[39m; Actual: \u001b[39m\u001b[39m%s\u001b[39;00m\u001b[39m\"\u001b[39m\n\u001b[0;32m     <a href='vscode-notebook-cell:/d%3A/Trigger-detection-skeletal/pose_classification.ipynb#X62sZmlsZQ%3D%3D?line=23'>24</a>\u001b[0m             \u001b[39m%\u001b[39m (y_pred_label[id_in_df], y_true_label[id_in_df]))\n\u001b[1;32m---> <a href='vscode-notebook-cell:/d%3A/Trigger-detection-skeletal/pose_classification.ipynb#X62sZmlsZQ%3D%3D?line=24'>25</a>\u001b[0m   plt\u001b[39m.\u001b[39mimshow(cv2\u001b[39m.\u001b[39;49mcvtColor(image, cv2\u001b[39m.\u001b[39;49mCOLOR_BGR2RGB))\n\u001b[0;32m     <a href='vscode-notebook-cell:/d%3A/Trigger-detection-skeletal/pose_classification.ipynb#X62sZmlsZQ%3D%3D?line=25'>26</a>\u001b[0m plt\u001b[39m.\u001b[39mshow()\n",
            "\u001b[1;31merror\u001b[0m: OpenCV(4.8.0) D:\\a\\opencv-python\\opencv-python\\opencv\\modules\\imgproc\\src\\color.cpp:182: error: (-215:Assertion failed) !_src.empty() in function 'cv::cvtColor'\n"
          ]
        },
        {
          "data": {
            "image/png": "[encoded data removed]",
            "text/plain": [
              "<Figure size 3000x11000 with 1 Axes>"
            ]
          },
          "metadata": {},
          "output_type": "display_data"
        }
      ],
      "source": [
        "if is_skip_step_1:\n",
        "  raise RuntimeError('You must have run step 1 to run this cell.')\n",
        "\n",
        "# If step 1 was skipped, skip this step.\n",
        "IMAGE_PER_ROW = 3\n",
        "MAX_NO_OF_IMAGE_TO_PLOT = 30\n",
        "\n",
        "# Extract the list of incorrectly predicted poses\n",
        "false_predict = [id_in_df for id_in_df in range(len(y_test)) \\\n",
        "                if y_pred_label[id_in_df] != y_true_label[id_in_df]]\n",
        "if len(false_predict) > MAX_NO_OF_IMAGE_TO_PLOT:\n",
        "  false_predict = false_predict[:MAX_NO_OF_IMAGE_TO_PLOT]\n",
        "\n",
        "# Plot the incorrectly predicted images\n",
        "row_count = len(false_predict) // IMAGE_PER_ROW + 1\n",
        "fig = plt.figure(figsize=(10 * IMAGE_PER_ROW, 10 * row_count))\n",
        "for i, id_in_df in enumerate(false_predict):\n",
        "  ax = fig.add_subplot(row_count, IMAGE_PER_ROW, i + 1)\n",
        "  image_path = os.path.join(images_out_test_folder,\n",
        "                            df_test.iloc[id_in_df]['file_name'])\n",
        "\n",
        "  image = cv2.imread(image_path)\n",
        "  plt.title(\"Predict: %s; Actual: %s\"\n",
        "            % (y_pred_label[id_in_df], y_true_label[id_in_df]))\n",
        "  plt.imshow(cv2.cvtColor(image, cv2.COLOR_BGR2RGB))\n",
        "plt.show()"
      ]
    },
    {
      "cell_type": "markdown",
      "metadata": {
        "id": "uhY0VeDkFK7W"
      },
      "source": [
        "## Part 3: Convert the pose classification model to TensorFlow Lite\n",
        "\n",
        "You'll convert the Keras pose classification model to the TensorFlow Lite format so that you can deploy it to mobile apps, web browsers and edge devices. When converting the model, you'll apply [dynamic range quantization](https://www.tensorflow.org/lite/performance/post_training_quant) to reduce the pose classification TensorFlow Lite model size by about 4 times with insignificant accuracy loss.\n",
        "\n",
        "Note: TensorFlow Lite supports multiple quantization schemes. See the [documentation](https://www.tensorflow.org/lite/performance/model_optimization) if you are interested to learn more."
      ]
    },
    {
      "cell_type": "code",
      "execution_count": 33,
      "metadata": {
        "id": "FmwEAgi2Flb3"
      },
      "outputs": [
        {
          "name": "stdout",
          "output_type": "stream",
          "text": [
            "INFO:tensorflow:Assets written to: C:\\Users\\mhasaan\\AppData\\Local\\Temp\\tmpmlslbu88\\assets\n"
          ]
        },
        {
          "name": "stderr",
          "output_type": "stream",
          "text": [
            "INFO:tensorflow:Assets written to: C:\\Users\\mhasaan\\AppData\\Local\\Temp\\tmpmlslbu88\\assets\n"
          ]
        },
        {
          "name": "stdout",
          "output_type": "stream",
          "text": [
            "Model size: 26KB\n"
          ]
        }
      ],
      "source": [
        "converter = tf.lite.TFLiteConverter.from_keras_model(model)\n",
        "converter.optimizations = [tf.lite.Optimize.DEFAULT]\n",
        "tflite_model = converter.convert()\n",
        "\n",
        "print('Model size: %dKB' % (len(tflite_model) / 1024))\n",
        "\n",
        "with open('pose_classifier.tflite', 'wb') as f:\n",
        "  f.write(tflite_model)"
      ]
    },
    {
      "cell_type": "markdown",
      "metadata": {
        "id": "XUOQwuBP6jMH"
      },
      "source": [
        "Then you'll write the label file which contains mapping from the class indexes to the human readable class names."
      ]
    },
    {
      "cell_type": "code",
      "execution_count": 34,
      "metadata": {
        "id": "ZVW9j5vF6hBM"
      },
      "outputs": [],
      "source": [
        "with open('pose_labels.txt', 'w') as f:\n",
        "  f.write('\\n'.join(class_names))"
      ]
    },
    {
      "cell_type": "markdown",
      "metadata": {
        "id": "H4T0HFGCve-Y"
      },
      "source": [
        "As you've applied quantization to reduce the model size, let's evaluate the quantized TFLite model to check whether the accuracy drop is acceptable."
      ]
    },
    {
      "cell_type": "code",
      "execution_count": 35,
      "metadata": {
        "id": "rv4fZFNcsN-1"
      },
      "outputs": [
        {
          "name": "stdout",
          "output_type": "stream",
          "text": [
            "Accuracy of TFLite model: 0.7981859410430839\n"
          ]
        }
      ],
      "source": [
        "def evaluate_model(interpreter, X, y_true):\n",
        "  \"\"\"Evaluates the given TFLite model and return its accuracy.\"\"\"\n",
        "  input_index = interpreter.get_input_details()[0][\"index\"]\n",
        "  output_index = interpreter.get_output_details()[0][\"index\"]\n",
        "\n",
        "  # Run predictions on all given poses.\n",
        "  y_pred = []\n",
        "  for i in range(len(y_true)):\n",
        "    # Pre-processing: add batch dimension and convert to float32 to match with\n",
        "    # the model's input data format.\n",
        "    test_image = X[i: i + 1].astype('float32')\n",
        "    interpreter.set_tensor(input_index, test_image)\n",
        "\n",
        "    # Run inference.\n",
        "    interpreter.invoke()\n",
        "\n",
        "    # Post-processing: remove batch dimension and find the class with highest\n",
        "    # probability.\n",
        "    output = interpreter.tensor(output_index)\n",
        "    predicted_label = np.argmax(output()[0])\n",
        "    y_pred.append(predicted_label)\n",
        "\n",
        "  # Compare prediction results with ground truth labels to calculate accuracy.\n",
        "  y_pred = keras.utils.to_categorical(y_pred)\n",
        "  return accuracy_score(y_true, y_pred)\n",
        "\n",
        "# Evaluate the accuracy of the converted TFLite model\n",
        "classifier_interpreter = tf.lite.Interpreter(model_content=tflite_model)\n",
        "classifier_interpreter.allocate_tensors()\n",
        "print('Accuracy of TFLite model: %s' %\n",
        "      evaluate_model(classifier_interpreter, X_test, y_test))"
      ]
    },
    {
      "cell_type": "markdown",
      "metadata": {
        "id": "-HWqcersePiY"
      },
      "source": [
        "Now you can download the TFLite model (`pose_classifier.tflite`) and the label file (`pose_labels.txt`) to classify custom poses. See the [Android](https://github.com/tensorflow/examples/tree/master/lite/examples/pose_estimation/android) and [Python/Raspberry Pi](https://github.com/tensorflow/examples/tree/master/lite/examples/pose_estimation/raspberry_pi) sample app for an end-to-end example of how to use the TFLite pose classification model."
      ]
    },
    {
      "cell_type": "code",
      "execution_count": null,
      "metadata": {
        "id": "KvcM_LkApOT3"
      },
      "outputs": [],
      "source": [
        "!zip pose_classifier.zip pose_labels.txt pose_classifier.tflite"
      ]
    },
    {
      "cell_type": "code",
      "execution_count": null,
      "metadata": {
        "id": "VQ-i27VypI1u"
      },
      "outputs": [],
      "source": [
        "# Download the zip archive if running on Colab.\n",
        "try:\n",
        "  from google.colab import files\n",
        "  files.download('pose_classifier.zip')\n",
        "except:\n",
        "  pass"
      ]
    }
  ],
  "metadata": {
    "colab": {
      "collapsed_sections": [],
      "name": "pose_classification.ipynb",
      "private_outputs": true,
      "provenance": [
        {
          "file_id": "1DghVqExBLSe8zgRaxRSxU04WGmGDM1L-",
          "timestamp": 1635321811242
        },
        {
          "file_id": "https://github.com/tensorflow/tensorflow/blob/master/tensorflow/lite/g3doc/tutorials/pose_classification.ipynb",
          "timestamp": 1635313965008
        }
      ],
      "toc_visible": true
    },
    "kernelspec": {
      "display_name": "Python 3",
      "name": "python3"
    },
    "language_info": {
      "codemirror_mode": {
        "name": "ipython",
        "version": 3
      },
      "file_extension": ".py",
      "mimetype": "text/x-python",
      "name": "python",
      "nbconvert_exporter": "python",
      "pygments_lexer": "ipython3",
      "version": "3.11.4"
    }
  },
  "nbformat": 4,
  "nbformat_minor": 0
}
